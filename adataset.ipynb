{
 "cells": [
  {
   "cell_type": "code",
   "execution_count": null,
   "id": "e7ccf961",
   "metadata": {
    "papermill": {
     "duration": 0.008788,
     "end_time": "2024-02-27T11:11:21.707279",
     "exception": false,
     "start_time": "2024-02-27T11:11:21.698491",
     "status": "completed"
    },
    "tags": []
   },
   "outputs": [],
   "source": []
  },
  {
   "cell_type": "code",
   "execution_count": 1,
   "id": "8202c403",
   "metadata": {
    "_cell_guid": "b1076dfc-b9ad-4769-8c92-a6c4dae69d19",
    "_uuid": "8f2839f25d086af736a60e9eeb907d3b93b6e0e5",
    "execution": {
     "iopub.execute_input": "2024-02-27T11:11:21.726504Z",
     "iopub.status.busy": "2024-02-27T11:11:21.725553Z",
     "iopub.status.idle": "2024-02-27T11:11:22.573687Z",
     "shell.execute_reply": "2024-02-27T11:11:22.572246Z"
    },
    "papermill": {
     "duration": 0.860538,
     "end_time": "2024-02-27T11:11:22.576262",
     "exception": false,
     "start_time": "2024-02-27T11:11:21.715724",
     "status": "completed"
    },
    "tags": []
   },
   "outputs": [
    {
     "name": "stdout",
     "output_type": "stream",
     "text": [
      "/kaggle/input/aids-data-quest-society/sample_submission.csv\n",
      "/kaggle/input/aids-data-quest-society/train_ds.csv\n",
      "/kaggle/input/aids-data-quest-society/test_ds.csv\n"
     ]
    }
   ],
   "source": [
    "# This Python 3 environment comes with many helpful analytics libraries installed\n",
    "# It is defined by the kaggle/python Docker image: https://github.com/kaggle/docker-python\n",
    "# For example, here's several helpful packages to load\n",
    "\n",
    "import numpy as np # linear algebra\n",
    "import pandas as pd # data processing, CSV file I/O (e.g. pd.read_csv)\n",
    "\n",
    "# Input data files are available in the read-only \"../input/\" directory\n",
    "# For example, running this (by clicking run or pressing Shift+Enter) will list all files under the input directory\n",
    "\n",
    "import os\n",
    "for dirname, _, filenames in os.walk('/kaggle/input'):\n",
    "    for filename in filenames:\n",
    "        print(os.path.join(dirname, filename))\n",
    "\n",
    "# You can write up to 20GB to the current directory (/kaggle/working/) that gets preserved as output when you create a version using \"Save & Run All\" \n",
    "# You can also write temporary files to /kaggle/temp/, but they won't be saved outside of the current session"
   ]
  },
  {
   "cell_type": "code",
   "execution_count": 2,
   "id": "1494c7fb",
   "metadata": {
    "execution": {
     "iopub.execute_input": "2024-02-27T11:11:22.599412Z",
     "iopub.status.busy": "2024-02-27T11:11:22.598527Z",
     "iopub.status.idle": "2024-02-27T11:11:24.223615Z",
     "shell.execute_reply": "2024-02-27T11:11:24.222375Z"
    },
    "papermill": {
     "duration": 1.638113,
     "end_time": "2024-02-27T11:11:24.225933",
     "exception": false,
     "start_time": "2024-02-27T11:11:22.587820",
     "status": "completed"
    },
    "tags": []
   },
   "outputs": [],
   "source": [
    "import numpy as np\n",
    "import pandas as pd\n",
    "import matplotlib.pyplot as plt\n",
    "import seaborn as sns\n",
    "\n",
    "from sklearn.preprocessing import MinMaxScaler\n",
    "from sklearn.model_selection import train_test_split"
   ]
  },
  {
   "cell_type": "code",
   "execution_count": 3,
   "id": "b10f7bcf",
   "metadata": {
    "execution": {
     "iopub.execute_input": "2024-02-27T11:11:24.245920Z",
     "iopub.status.busy": "2024-02-27T11:11:24.245574Z",
     "iopub.status.idle": "2024-02-27T11:11:24.283024Z",
     "shell.execute_reply": "2024-02-27T11:11:24.281539Z"
    },
    "papermill": {
     "duration": 0.050704,
     "end_time": "2024-02-27T11:11:24.285414",
     "exception": false,
     "start_time": "2024-02-27T11:11:24.234710",
     "status": "completed"
    },
    "tags": []
   },
   "outputs": [],
   "source": [
    "apple_data=pd.read_csv('/kaggle/input/aids-data-quest-society/train_ds.csv',index_col=0)"
   ]
  },
  {
   "cell_type": "code",
   "execution_count": 4,
   "id": "90c28498",
   "metadata": {
    "execution": {
     "iopub.execute_input": "2024-02-27T11:11:24.304311Z",
     "iopub.status.busy": "2024-02-27T11:11:24.303884Z",
     "iopub.status.idle": "2024-02-27T11:11:24.323752Z",
     "shell.execute_reply": "2024-02-27T11:11:24.322590Z"
    },
    "papermill": {
     "duration": 0.031954,
     "end_time": "2024-02-27T11:11:24.326101",
     "exception": false,
     "start_time": "2024-02-27T11:11:24.294147",
     "status": "completed"
    },
    "tags": []
   },
   "outputs": [
    {
     "data": {
      "text/html": [
       "<div>\n",
       "<style scoped>\n",
       "    .dataframe tbody tr th:only-of-type {\n",
       "        vertical-align: middle;\n",
       "    }\n",
       "\n",
       "    .dataframe tbody tr th {\n",
       "        vertical-align: top;\n",
       "    }\n",
       "\n",
       "    .dataframe thead th {\n",
       "        text-align: right;\n",
       "    }\n",
       "</style>\n",
       "<table border=\"1\" class=\"dataframe\">\n",
       "  <thead>\n",
       "    <tr style=\"text-align: right;\">\n",
       "      <th></th>\n",
       "      <th>Size</th>\n",
       "      <th>Weight</th>\n",
       "      <th>Sweetness</th>\n",
       "      <th>Crunchiness</th>\n",
       "      <th>Juiciness</th>\n",
       "      <th>Ripeness</th>\n",
       "      <th>Acidity</th>\n",
       "      <th>Quality</th>\n",
       "    </tr>\n",
       "    <tr>\n",
       "      <th>ID</th>\n",
       "      <th></th>\n",
       "      <th></th>\n",
       "      <th></th>\n",
       "      <th></th>\n",
       "      <th></th>\n",
       "      <th></th>\n",
       "      <th></th>\n",
       "      <th></th>\n",
       "    </tr>\n",
       "  </thead>\n",
       "  <tbody>\n",
       "    <tr>\n",
       "      <th>2643.0</th>\n",
       "      <td>1.046240</td>\n",
       "      <td>0.496004</td>\n",
       "      <td>-1.099324</td>\n",
       "      <td>-1.033066</td>\n",
       "      <td>0.386916</td>\n",
       "      <td>-0.108156</td>\n",
       "      <td>0.316697</td>\n",
       "      <td>good</td>\n",
       "    </tr>\n",
       "    <tr>\n",
       "      <th>456.0</th>\n",
       "      <td>-0.141586</td>\n",
       "      <td>2.091739</td>\n",
       "      <td>-2.431368</td>\n",
       "      <td>1.498578</td>\n",
       "      <td>-1.071765</td>\n",
       "      <td>2.290815</td>\n",
       "      <td>1.121724</td>\n",
       "      <td>good</td>\n",
       "    </tr>\n",
       "    <tr>\n",
       "      <th>3628.0</th>\n",
       "      <td>-3.133888</td>\n",
       "      <td>-0.097508</td>\n",
       "      <td>-1.332843</td>\n",
       "      <td>0.789341</td>\n",
       "      <td>-1.442272</td>\n",
       "      <td>1.058389</td>\n",
       "      <td>-1.038278</td>\n",
       "      <td>bad</td>\n",
       "    </tr>\n",
       "    <tr>\n",
       "      <th>1365.0</th>\n",
       "      <td>-1.973097</td>\n",
       "      <td>1.731857</td>\n",
       "      <td>-3.322003</td>\n",
       "      <td>-0.698491</td>\n",
       "      <td>-0.610942</td>\n",
       "      <td>3.563734</td>\n",
       "      <td>1.426288</td>\n",
       "      <td>bad</td>\n",
       "    </tr>\n",
       "    <tr>\n",
       "      <th>328.0</th>\n",
       "      <td>3.038896</td>\n",
       "      <td>-2.665844</td>\n",
       "      <td>-1.490831</td>\n",
       "      <td>2.806738</td>\n",
       "      <td>3.200184</td>\n",
       "      <td>-1.194294</td>\n",
       "      <td>1.686512</td>\n",
       "      <td>good</td>\n",
       "    </tr>\n",
       "  </tbody>\n",
       "</table>\n",
       "</div>"
      ],
      "text/plain": [
       "            Size    Weight  Sweetness  Crunchiness  Juiciness  Ripeness  \\\n",
       "ID                                                                        \n",
       "2643.0  1.046240  0.496004  -1.099324    -1.033066   0.386916 -0.108156   \n",
       "456.0  -0.141586  2.091739  -2.431368     1.498578  -1.071765  2.290815   \n",
       "3628.0 -3.133888 -0.097508  -1.332843     0.789341  -1.442272  1.058389   \n",
       "1365.0 -1.973097  1.731857  -3.322003    -0.698491  -0.610942  3.563734   \n",
       "328.0   3.038896 -2.665844  -1.490831     2.806738   3.200184 -1.194294   \n",
       "\n",
       "         Acidity Quality  \n",
       "ID                        \n",
       "2643.0  0.316697    good  \n",
       "456.0   1.121724    good  \n",
       "3628.0 -1.038278     bad  \n",
       "1365.0  1.426288     bad  \n",
       "328.0   1.686512    good  "
      ]
     },
     "execution_count": 4,
     "metadata": {},
     "output_type": "execute_result"
    }
   ],
   "source": [
    "apple_data.head()"
   ]
  },
  {
   "cell_type": "code",
   "execution_count": 5,
   "id": "2751748b",
   "metadata": {
    "execution": {
     "iopub.execute_input": "2024-02-27T11:11:24.345275Z",
     "iopub.status.busy": "2024-02-27T11:11:24.344945Z",
     "iopub.status.idle": "2024-02-27T11:11:24.350828Z",
     "shell.execute_reply": "2024-02-27T11:11:24.350249Z"
    },
    "papermill": {
     "duration": 0.017345,
     "end_time": "2024-02-27T11:11:24.352431",
     "exception": false,
     "start_time": "2024-02-27T11:11:24.335086",
     "status": "completed"
    },
    "tags": []
   },
   "outputs": [
    {
     "data": {
      "text/plain": [
       "Size           float64\n",
       "Weight         float64\n",
       "Sweetness      float64\n",
       "Crunchiness    float64\n",
       "Juiciness      float64\n",
       "Ripeness       float64\n",
       "Acidity        float64\n",
       "Quality         object\n",
       "dtype: object"
      ]
     },
     "execution_count": 5,
     "metadata": {},
     "output_type": "execute_result"
    }
   ],
   "source": [
    "apple_data.dtypes"
   ]
  },
  {
   "cell_type": "code",
   "execution_count": 6,
   "id": "070da429",
   "metadata": {
    "execution": {
     "iopub.execute_input": "2024-02-27T11:11:24.372096Z",
     "iopub.status.busy": "2024-02-27T11:11:24.371474Z",
     "iopub.status.idle": "2024-02-27T11:11:24.380767Z",
     "shell.execute_reply": "2024-02-27T11:11:24.379740Z"
    },
    "papermill": {
     "duration": 0.021527,
     "end_time": "2024-02-27T11:11:24.382894",
     "exception": false,
     "start_time": "2024-02-27T11:11:24.361367",
     "status": "completed"
    },
    "tags": []
   },
   "outputs": [],
   "source": [
    "apple_data['Quality']=apple_data['Quality'].map({\"good\":1,\"bad\":0})"
   ]
  },
  {
   "cell_type": "markdown",
   "id": "2ebf62d9",
   "metadata": {
    "papermill": {
     "duration": 0.00849,
     "end_time": "2024-02-27T11:11:24.400481",
     "exception": false,
     "start_time": "2024-02-27T11:11:24.391991",
     "status": "completed"
    },
    "tags": []
   },
   "source": []
  },
  {
   "cell_type": "code",
   "execution_count": 7,
   "id": "9f275d8c",
   "metadata": {
    "execution": {
     "iopub.execute_input": "2024-02-27T11:11:24.420098Z",
     "iopub.status.busy": "2024-02-27T11:11:24.419403Z",
     "iopub.status.idle": "2024-02-27T11:11:24.432481Z",
     "shell.execute_reply": "2024-02-27T11:11:24.431280Z"
    },
    "papermill": {
     "duration": 0.025385,
     "end_time": "2024-02-27T11:11:24.434628",
     "exception": false,
     "start_time": "2024-02-27T11:11:24.409243",
     "status": "completed"
    },
    "tags": []
   },
   "outputs": [
    {
     "data": {
      "text/html": [
       "<div>\n",
       "<style scoped>\n",
       "    .dataframe tbody tr th:only-of-type {\n",
       "        vertical-align: middle;\n",
       "    }\n",
       "\n",
       "    .dataframe tbody tr th {\n",
       "        vertical-align: top;\n",
       "    }\n",
       "\n",
       "    .dataframe thead th {\n",
       "        text-align: right;\n",
       "    }\n",
       "</style>\n",
       "<table border=\"1\" class=\"dataframe\">\n",
       "  <thead>\n",
       "    <tr style=\"text-align: right;\">\n",
       "      <th></th>\n",
       "      <th>Size</th>\n",
       "      <th>Weight</th>\n",
       "      <th>Sweetness</th>\n",
       "      <th>Crunchiness</th>\n",
       "      <th>Juiciness</th>\n",
       "      <th>Ripeness</th>\n",
       "      <th>Acidity</th>\n",
       "      <th>Quality</th>\n",
       "    </tr>\n",
       "    <tr>\n",
       "      <th>ID</th>\n",
       "      <th></th>\n",
       "      <th></th>\n",
       "      <th></th>\n",
       "      <th></th>\n",
       "      <th></th>\n",
       "      <th></th>\n",
       "      <th></th>\n",
       "      <th></th>\n",
       "    </tr>\n",
       "  </thead>\n",
       "  <tbody>\n",
       "    <tr>\n",
       "      <th>2643.0</th>\n",
       "      <td>1.046240</td>\n",
       "      <td>0.496004</td>\n",
       "      <td>-1.099324</td>\n",
       "      <td>-1.033066</td>\n",
       "      <td>0.386916</td>\n",
       "      <td>-0.108156</td>\n",
       "      <td>0.316697</td>\n",
       "      <td>1</td>\n",
       "    </tr>\n",
       "    <tr>\n",
       "      <th>456.0</th>\n",
       "      <td>-0.141586</td>\n",
       "      <td>2.091739</td>\n",
       "      <td>-2.431368</td>\n",
       "      <td>1.498578</td>\n",
       "      <td>-1.071765</td>\n",
       "      <td>2.290815</td>\n",
       "      <td>1.121724</td>\n",
       "      <td>1</td>\n",
       "    </tr>\n",
       "    <tr>\n",
       "      <th>3628.0</th>\n",
       "      <td>-3.133888</td>\n",
       "      <td>-0.097508</td>\n",
       "      <td>-1.332843</td>\n",
       "      <td>0.789341</td>\n",
       "      <td>-1.442272</td>\n",
       "      <td>1.058389</td>\n",
       "      <td>-1.038278</td>\n",
       "      <td>0</td>\n",
       "    </tr>\n",
       "    <tr>\n",
       "      <th>1365.0</th>\n",
       "      <td>-1.973097</td>\n",
       "      <td>1.731857</td>\n",
       "      <td>-3.322003</td>\n",
       "      <td>-0.698491</td>\n",
       "      <td>-0.610942</td>\n",
       "      <td>3.563734</td>\n",
       "      <td>1.426288</td>\n",
       "      <td>0</td>\n",
       "    </tr>\n",
       "    <tr>\n",
       "      <th>328.0</th>\n",
       "      <td>3.038896</td>\n",
       "      <td>-2.665844</td>\n",
       "      <td>-1.490831</td>\n",
       "      <td>2.806738</td>\n",
       "      <td>3.200184</td>\n",
       "      <td>-1.194294</td>\n",
       "      <td>1.686512</td>\n",
       "      <td>1</td>\n",
       "    </tr>\n",
       "  </tbody>\n",
       "</table>\n",
       "</div>"
      ],
      "text/plain": [
       "            Size    Weight  Sweetness  Crunchiness  Juiciness  Ripeness  \\\n",
       "ID                                                                        \n",
       "2643.0  1.046240  0.496004  -1.099324    -1.033066   0.386916 -0.108156   \n",
       "456.0  -0.141586  2.091739  -2.431368     1.498578  -1.071765  2.290815   \n",
       "3628.0 -3.133888 -0.097508  -1.332843     0.789341  -1.442272  1.058389   \n",
       "1365.0 -1.973097  1.731857  -3.322003    -0.698491  -0.610942  3.563734   \n",
       "328.0   3.038896 -2.665844  -1.490831     2.806738   3.200184 -1.194294   \n",
       "\n",
       "         Acidity  Quality  \n",
       "ID                         \n",
       "2643.0  0.316697        1  \n",
       "456.0   1.121724        1  \n",
       "3628.0 -1.038278        0  \n",
       "1365.0  1.426288        0  \n",
       "328.0   1.686512        1  "
      ]
     },
     "execution_count": 7,
     "metadata": {},
     "output_type": "execute_result"
    }
   ],
   "source": [
    "apple_data.head()"
   ]
  },
  {
   "cell_type": "code",
   "execution_count": 8,
   "id": "14af7290",
   "metadata": {
    "execution": {
     "iopub.execute_input": "2024-02-27T11:11:24.454374Z",
     "iopub.status.busy": "2024-02-27T11:11:24.453811Z",
     "iopub.status.idle": "2024-02-27T11:11:24.473504Z",
     "shell.execute_reply": "2024-02-27T11:11:24.472114Z"
    },
    "papermill": {
     "duration": 0.032386,
     "end_time": "2024-02-27T11:11:24.475907",
     "exception": false,
     "start_time": "2024-02-27T11:11:24.443521",
     "status": "completed"
    },
    "tags": []
   },
   "outputs": [
    {
     "name": "stdout",
     "output_type": "stream",
     "text": [
      "<class 'pandas.core.frame.DataFrame'>\n",
      "Index: 3200 entries, 2643.0 to 3148.0\n",
      "Data columns (total 8 columns):\n",
      " #   Column       Non-Null Count  Dtype  \n",
      "---  ------       --------------  -----  \n",
      " 0   Size         3200 non-null   float64\n",
      " 1   Weight       3200 non-null   float64\n",
      " 2   Sweetness    3200 non-null   float64\n",
      " 3   Crunchiness  3200 non-null   float64\n",
      " 4   Juiciness    3200 non-null   float64\n",
      " 5   Ripeness     3200 non-null   float64\n",
      " 6   Acidity      3200 non-null   float64\n",
      " 7   Quality      3200 non-null   int64  \n",
      "dtypes: float64(7), int64(1)\n",
      "memory usage: 225.0 KB\n"
     ]
    }
   ],
   "source": [
    "apple_data.info()"
   ]
  },
  {
   "cell_type": "code",
   "execution_count": 9,
   "id": "c2116606",
   "metadata": {
    "execution": {
     "iopub.execute_input": "2024-02-27T11:11:24.496444Z",
     "iopub.status.busy": "2024-02-27T11:11:24.495858Z",
     "iopub.status.idle": "2024-02-27T11:11:24.525596Z",
     "shell.execute_reply": "2024-02-27T11:11:24.523911Z"
    },
    "papermill": {
     "duration": 0.042643,
     "end_time": "2024-02-27T11:11:24.527811",
     "exception": false,
     "start_time": "2024-02-27T11:11:24.485168",
     "status": "completed"
    },
    "tags": []
   },
   "outputs": [
    {
     "data": {
      "text/html": [
       "<div>\n",
       "<style scoped>\n",
       "    .dataframe tbody tr th:only-of-type {\n",
       "        vertical-align: middle;\n",
       "    }\n",
       "\n",
       "    .dataframe tbody tr th {\n",
       "        vertical-align: top;\n",
       "    }\n",
       "\n",
       "    .dataframe thead th {\n",
       "        text-align: right;\n",
       "    }\n",
       "</style>\n",
       "<table border=\"1\" class=\"dataframe\">\n",
       "  <thead>\n",
       "    <tr style=\"text-align: right;\">\n",
       "      <th></th>\n",
       "      <th>Size</th>\n",
       "      <th>Weight</th>\n",
       "      <th>Sweetness</th>\n",
       "      <th>Crunchiness</th>\n",
       "      <th>Juiciness</th>\n",
       "      <th>Ripeness</th>\n",
       "      <th>Acidity</th>\n",
       "      <th>Quality</th>\n",
       "    </tr>\n",
       "  </thead>\n",
       "  <tbody>\n",
       "    <tr>\n",
       "      <th>count</th>\n",
       "      <td>3200.000000</td>\n",
       "      <td>3200.000000</td>\n",
       "      <td>3200.000000</td>\n",
       "      <td>3200.000000</td>\n",
       "      <td>3200.000000</td>\n",
       "      <td>3200.000000</td>\n",
       "      <td>3200.000000</td>\n",
       "      <td>3200.000000</td>\n",
       "    </tr>\n",
       "    <tr>\n",
       "      <th>mean</th>\n",
       "      <td>-0.505158</td>\n",
       "      <td>-0.994030</td>\n",
       "      <td>-0.458036</td>\n",
       "      <td>0.980499</td>\n",
       "      <td>0.521659</td>\n",
       "      <td>0.483993</td>\n",
       "      <td>0.081752</td>\n",
       "      <td>0.500313</td>\n",
       "    </tr>\n",
       "    <tr>\n",
       "      <th>std</th>\n",
       "      <td>1.924380</td>\n",
       "      <td>1.597520</td>\n",
       "      <td>1.949300</td>\n",
       "      <td>1.400370</td>\n",
       "      <td>1.918867</td>\n",
       "      <td>1.878866</td>\n",
       "      <td>2.100689</td>\n",
       "      <td>0.500078</td>\n",
       "    </tr>\n",
       "    <tr>\n",
       "      <th>min</th>\n",
       "      <td>-7.151703</td>\n",
       "      <td>-6.581590</td>\n",
       "      <td>-6.894485</td>\n",
       "      <td>-6.055058</td>\n",
       "      <td>-5.814308</td>\n",
       "      <td>-5.864599</td>\n",
       "      <td>-6.955460</td>\n",
       "      <td>0.000000</td>\n",
       "    </tr>\n",
       "    <tr>\n",
       "      <th>25%</th>\n",
       "      <td>-1.821048</td>\n",
       "      <td>-2.023510</td>\n",
       "      <td>-1.737704</td>\n",
       "      <td>0.074473</td>\n",
       "      <td>-0.799721</td>\n",
       "      <td>-0.803991</td>\n",
       "      <td>-1.357983</td>\n",
       "      <td>0.000000</td>\n",
       "    </tr>\n",
       "    <tr>\n",
       "      <th>50%</th>\n",
       "      <td>-0.514629</td>\n",
       "      <td>-0.976096</td>\n",
       "      <td>-0.491689</td>\n",
       "      <td>0.979064</td>\n",
       "      <td>0.534219</td>\n",
       "      <td>0.501624</td>\n",
       "      <td>0.017395</td>\n",
       "      <td>1.000000</td>\n",
       "    </tr>\n",
       "    <tr>\n",
       "      <th>75%</th>\n",
       "      <td>0.813185</td>\n",
       "      <td>0.019627</td>\n",
       "      <td>0.826727</td>\n",
       "      <td>1.889772</td>\n",
       "      <td>1.855892</td>\n",
       "      <td>1.747977</td>\n",
       "      <td>1.511115</td>\n",
       "      <td>1.000000</td>\n",
       "    </tr>\n",
       "    <tr>\n",
       "      <th>max</th>\n",
       "      <td>6.406367</td>\n",
       "      <td>5.790714</td>\n",
       "      <td>6.374916</td>\n",
       "      <td>7.619852</td>\n",
       "      <td>7.364403</td>\n",
       "      <td>7.237837</td>\n",
       "      <td>7.193374</td>\n",
       "      <td>1.000000</td>\n",
       "    </tr>\n",
       "  </tbody>\n",
       "</table>\n",
       "</div>"
      ],
      "text/plain": [
       "              Size       Weight    Sweetness  Crunchiness    Juiciness  \\\n",
       "count  3200.000000  3200.000000  3200.000000  3200.000000  3200.000000   \n",
       "mean     -0.505158    -0.994030    -0.458036     0.980499     0.521659   \n",
       "std       1.924380     1.597520     1.949300     1.400370     1.918867   \n",
       "min      -7.151703    -6.581590    -6.894485    -6.055058    -5.814308   \n",
       "25%      -1.821048    -2.023510    -1.737704     0.074473    -0.799721   \n",
       "50%      -0.514629    -0.976096    -0.491689     0.979064     0.534219   \n",
       "75%       0.813185     0.019627     0.826727     1.889772     1.855892   \n",
       "max       6.406367     5.790714     6.374916     7.619852     7.364403   \n",
       "\n",
       "          Ripeness      Acidity      Quality  \n",
       "count  3200.000000  3200.000000  3200.000000  \n",
       "mean      0.483993     0.081752     0.500313  \n",
       "std       1.878866     2.100689     0.500078  \n",
       "min      -5.864599    -6.955460     0.000000  \n",
       "25%      -0.803991    -1.357983     0.000000  \n",
       "50%       0.501624     0.017395     1.000000  \n",
       "75%       1.747977     1.511115     1.000000  \n",
       "max       7.237837     7.193374     1.000000  "
      ]
     },
     "execution_count": 9,
     "metadata": {},
     "output_type": "execute_result"
    }
   ],
   "source": [
    "apple_data.describe()"
   ]
  },
  {
   "cell_type": "code",
   "execution_count": 10,
   "id": "ae333249",
   "metadata": {
    "execution": {
     "iopub.execute_input": "2024-02-27T11:11:24.548139Z",
     "iopub.status.busy": "2024-02-27T11:11:24.547828Z",
     "iopub.status.idle": "2024-02-27T11:11:24.557917Z",
     "shell.execute_reply": "2024-02-27T11:11:24.556401Z"
    },
    "papermill": {
     "duration": 0.02327,
     "end_time": "2024-02-27T11:11:24.560490",
     "exception": false,
     "start_time": "2024-02-27T11:11:24.537220",
     "status": "completed"
    },
    "tags": []
   },
   "outputs": [
    {
     "name": "stdout",
     "output_type": "stream",
     "text": [
      "[[0.60465411 0.57205146 0.43673118 0.36724133 0.47054862 0.43934147\n",
      "  0.51397573 1.        ]\n",
      " [0.51704391 0.7010278  0.33634654 0.55237193 0.35986394 0.62243496\n",
      "  0.57087277 1.        ]\n",
      " [0.29634123 0.52408043 0.41913289 0.50050777 0.33174991 0.52837412\n",
      "  0.41820984 0.        ]\n",
      " [0.38195749 0.67194008 0.26922713 0.39170763 0.39483114 0.71958625\n",
      "  0.59239846 0.        ]\n",
      " [0.75162608 0.31649289 0.40722673 0.64803319 0.68401928 0.35644556\n",
      "  0.61079041 1.        ]]\n"
     ]
    }
   ],
   "source": [
    "scaler=MinMaxScaler(feature_range=(0,1))\n",
    "scaled=scaler.fit_transform(apple_data)\n",
    "print(scaled[0:5,:])\n",
    "scaled=pd.DataFrame(scaled) "
   ]
  },
  {
   "cell_type": "code",
   "execution_count": 11,
   "id": "46c6b1fa",
   "metadata": {
    "execution": {
     "iopub.execute_input": "2024-02-27T11:11:24.581141Z",
     "iopub.status.busy": "2024-02-27T11:11:24.580786Z",
     "iopub.status.idle": "2024-02-27T11:11:24.587124Z",
     "shell.execute_reply": "2024-02-27T11:11:24.585664Z"
    },
    "papermill": {
     "duration": 0.018957,
     "end_time": "2024-02-27T11:11:24.588978",
     "exception": false,
     "start_time": "2024-02-27T11:11:24.570021",
     "status": "completed"
    },
    "tags": []
   },
   "outputs": [
    {
     "data": {
      "text/plain": [
       "Index(['Size', 'Weight', 'Sweetness', 'Crunchiness', 'Juiciness', 'Ripeness',\n",
       "       'Acidity', 'Quality'],\n",
       "      dtype='object')"
      ]
     },
     "execution_count": 11,
     "metadata": {},
     "output_type": "execute_result"
    }
   ],
   "source": [
    "apple_data.columns"
   ]
  },
  {
   "cell_type": "code",
   "execution_count": 12,
   "id": "217b0eea",
   "metadata": {
    "execution": {
     "iopub.execute_input": "2024-02-27T11:11:24.609870Z",
     "iopub.status.busy": "2024-02-27T11:11:24.609285Z",
     "iopub.status.idle": "2024-02-27T11:11:24.616401Z",
     "shell.execute_reply": "2024-02-27T11:11:24.615372Z"
    },
    "papermill": {
     "duration": 0.020165,
     "end_time": "2024-02-27T11:11:24.618689",
     "exception": false,
     "start_time": "2024-02-27T11:11:24.598524",
     "status": "completed"
    },
    "tags": []
   },
   "outputs": [],
   "source": [
    "x=apple_data.iloc[:,::-1]\n",
    "y=apple_data.iloc[:,-1]"
   ]
  },
  {
   "cell_type": "code",
   "execution_count": 13,
   "id": "852eb6bf",
   "metadata": {
    "execution": {
     "iopub.execute_input": "2024-02-27T11:11:24.640412Z",
     "iopub.status.busy": "2024-02-27T11:11:24.639844Z",
     "iopub.status.idle": "2024-02-27T11:11:24.655081Z",
     "shell.execute_reply": "2024-02-27T11:11:24.653415Z"
    },
    "papermill": {
     "duration": 0.028556,
     "end_time": "2024-02-27T11:11:24.657112",
     "exception": false,
     "start_time": "2024-02-27T11:11:24.628556",
     "status": "completed"
    },
    "tags": []
   },
   "outputs": [
    {
     "data": {
      "text/html": [
       "<div>\n",
       "<style scoped>\n",
       "    .dataframe tbody tr th:only-of-type {\n",
       "        vertical-align: middle;\n",
       "    }\n",
       "\n",
       "    .dataframe tbody tr th {\n",
       "        vertical-align: top;\n",
       "    }\n",
       "\n",
       "    .dataframe thead th {\n",
       "        text-align: right;\n",
       "    }\n",
       "</style>\n",
       "<table border=\"1\" class=\"dataframe\">\n",
       "  <thead>\n",
       "    <tr style=\"text-align: right;\">\n",
       "      <th></th>\n",
       "      <th>Quality</th>\n",
       "      <th>Acidity</th>\n",
       "      <th>Ripeness</th>\n",
       "      <th>Juiciness</th>\n",
       "      <th>Crunchiness</th>\n",
       "      <th>Sweetness</th>\n",
       "      <th>Weight</th>\n",
       "      <th>Size</th>\n",
       "    </tr>\n",
       "    <tr>\n",
       "      <th>ID</th>\n",
       "      <th></th>\n",
       "      <th></th>\n",
       "      <th></th>\n",
       "      <th></th>\n",
       "      <th></th>\n",
       "      <th></th>\n",
       "      <th></th>\n",
       "      <th></th>\n",
       "    </tr>\n",
       "  </thead>\n",
       "  <tbody>\n",
       "    <tr>\n",
       "      <th>2643.0</th>\n",
       "      <td>1</td>\n",
       "      <td>0.316697</td>\n",
       "      <td>-0.108156</td>\n",
       "      <td>0.386916</td>\n",
       "      <td>-1.033066</td>\n",
       "      <td>-1.099324</td>\n",
       "      <td>0.496004</td>\n",
       "      <td>1.046240</td>\n",
       "    </tr>\n",
       "    <tr>\n",
       "      <th>456.0</th>\n",
       "      <td>1</td>\n",
       "      <td>1.121724</td>\n",
       "      <td>2.290815</td>\n",
       "      <td>-1.071765</td>\n",
       "      <td>1.498578</td>\n",
       "      <td>-2.431368</td>\n",
       "      <td>2.091739</td>\n",
       "      <td>-0.141586</td>\n",
       "    </tr>\n",
       "    <tr>\n",
       "      <th>3628.0</th>\n",
       "      <td>0</td>\n",
       "      <td>-1.038278</td>\n",
       "      <td>1.058389</td>\n",
       "      <td>-1.442272</td>\n",
       "      <td>0.789341</td>\n",
       "      <td>-1.332843</td>\n",
       "      <td>-0.097508</td>\n",
       "      <td>-3.133888</td>\n",
       "    </tr>\n",
       "    <tr>\n",
       "      <th>1365.0</th>\n",
       "      <td>0</td>\n",
       "      <td>1.426288</td>\n",
       "      <td>3.563734</td>\n",
       "      <td>-0.610942</td>\n",
       "      <td>-0.698491</td>\n",
       "      <td>-3.322003</td>\n",
       "      <td>1.731857</td>\n",
       "      <td>-1.973097</td>\n",
       "    </tr>\n",
       "    <tr>\n",
       "      <th>328.0</th>\n",
       "      <td>1</td>\n",
       "      <td>1.686512</td>\n",
       "      <td>-1.194294</td>\n",
       "      <td>3.200184</td>\n",
       "      <td>2.806738</td>\n",
       "      <td>-1.490831</td>\n",
       "      <td>-2.665844</td>\n",
       "      <td>3.038896</td>\n",
       "    </tr>\n",
       "    <tr>\n",
       "      <th>...</th>\n",
       "      <td>...</td>\n",
       "      <td>...</td>\n",
       "      <td>...</td>\n",
       "      <td>...</td>\n",
       "      <td>...</td>\n",
       "      <td>...</td>\n",
       "      <td>...</td>\n",
       "      <td>...</td>\n",
       "    </tr>\n",
       "    <tr>\n",
       "      <th>3386.0</th>\n",
       "      <td>0</td>\n",
       "      <td>-1.044119</td>\n",
       "      <td>1.673354</td>\n",
       "      <td>1.861532</td>\n",
       "      <td>0.171411</td>\n",
       "      <td>0.480126</td>\n",
       "      <td>-0.830394</td>\n",
       "      <td>-1.921919</td>\n",
       "    </tr>\n",
       "    <tr>\n",
       "      <th>651.0</th>\n",
       "      <td>1</td>\n",
       "      <td>3.276023</td>\n",
       "      <td>-2.941138</td>\n",
       "      <td>4.428274</td>\n",
       "      <td>3.366983</td>\n",
       "      <td>-1.101011</td>\n",
       "      <td>-2.102417</td>\n",
       "      <td>0.437878</td>\n",
       "    </tr>\n",
       "    <tr>\n",
       "      <th>288.0</th>\n",
       "      <td>1</td>\n",
       "      <td>3.551642</td>\n",
       "      <td>1.855762</td>\n",
       "      <td>-0.844019</td>\n",
       "      <td>0.391377</td>\n",
       "      <td>3.562095</td>\n",
       "      <td>-1.402303</td>\n",
       "      <td>-1.964100</td>\n",
       "    </tr>\n",
       "    <tr>\n",
       "      <th>856.0</th>\n",
       "      <td>0</td>\n",
       "      <td>-2.924450</td>\n",
       "      <td>0.826577</td>\n",
       "      <td>-2.716781</td>\n",
       "      <td>0.527186</td>\n",
       "      <td>-4.089663</td>\n",
       "      <td>0.212384</td>\n",
       "      <td>-3.274339</td>\n",
       "    </tr>\n",
       "    <tr>\n",
       "      <th>3148.0</th>\n",
       "      <td>1</td>\n",
       "      <td>1.658262</td>\n",
       "      <td>-1.697415</td>\n",
       "      <td>0.178083</td>\n",
       "      <td>3.428614</td>\n",
       "      <td>-0.782682</td>\n",
       "      <td>0.230726</td>\n",
       "      <td>1.791077</td>\n",
       "    </tr>\n",
       "  </tbody>\n",
       "</table>\n",
       "<p>3200 rows × 8 columns</p>\n",
       "</div>"
      ],
      "text/plain": [
       "        Quality   Acidity  Ripeness  Juiciness  Crunchiness  Sweetness  \\\n",
       "ID                                                                       \n",
       "2643.0        1  0.316697 -0.108156   0.386916    -1.033066  -1.099324   \n",
       "456.0         1  1.121724  2.290815  -1.071765     1.498578  -2.431368   \n",
       "3628.0        0 -1.038278  1.058389  -1.442272     0.789341  -1.332843   \n",
       "1365.0        0  1.426288  3.563734  -0.610942    -0.698491  -3.322003   \n",
       "328.0         1  1.686512 -1.194294   3.200184     2.806738  -1.490831   \n",
       "...         ...       ...       ...        ...          ...        ...   \n",
       "3386.0        0 -1.044119  1.673354   1.861532     0.171411   0.480126   \n",
       "651.0         1  3.276023 -2.941138   4.428274     3.366983  -1.101011   \n",
       "288.0         1  3.551642  1.855762  -0.844019     0.391377   3.562095   \n",
       "856.0         0 -2.924450  0.826577  -2.716781     0.527186  -4.089663   \n",
       "3148.0        1  1.658262 -1.697415   0.178083     3.428614  -0.782682   \n",
       "\n",
       "          Weight      Size  \n",
       "ID                          \n",
       "2643.0  0.496004  1.046240  \n",
       "456.0   2.091739 -0.141586  \n",
       "3628.0 -0.097508 -3.133888  \n",
       "1365.0  1.731857 -1.973097  \n",
       "328.0  -2.665844  3.038896  \n",
       "...          ...       ...  \n",
       "3386.0 -0.830394 -1.921919  \n",
       "651.0  -2.102417  0.437878  \n",
       "288.0  -1.402303 -1.964100  \n",
       "856.0   0.212384 -3.274339  \n",
       "3148.0  0.230726  1.791077  \n",
       "\n",
       "[3200 rows x 8 columns]"
      ]
     },
     "execution_count": 13,
     "metadata": {},
     "output_type": "execute_result"
    }
   ],
   "source": [
    "x"
   ]
  },
  {
   "cell_type": "code",
   "execution_count": 14,
   "id": "66f98d0c",
   "metadata": {
    "execution": {
     "iopub.execute_input": "2024-02-27T11:11:24.677615Z",
     "iopub.status.busy": "2024-02-27T11:11:24.677269Z",
     "iopub.status.idle": "2024-02-27T11:11:24.681115Z",
     "shell.execute_reply": "2024-02-27T11:11:24.680390Z"
    },
    "papermill": {
     "duration": 0.015919,
     "end_time": "2024-02-27T11:11:24.682708",
     "exception": false,
     "start_time": "2024-02-27T11:11:24.666789",
     "status": "completed"
    },
    "tags": []
   },
   "outputs": [],
   "source": [
    "y = y.values"
   ]
  },
  {
   "cell_type": "code",
   "execution_count": 15,
   "id": "851950fe",
   "metadata": {
    "execution": {
     "iopub.execute_input": "2024-02-27T11:11:24.703559Z",
     "iopub.status.busy": "2024-02-27T11:11:24.702949Z",
     "iopub.status.idle": "2024-02-27T11:11:24.708587Z",
     "shell.execute_reply": "2024-02-27T11:11:24.707504Z"
    },
    "papermill": {
     "duration": 0.017896,
     "end_time": "2024-02-27T11:11:24.710242",
     "exception": false,
     "start_time": "2024-02-27T11:11:24.692346",
     "status": "completed"
    },
    "tags": []
   },
   "outputs": [
    {
     "data": {
      "text/plain": [
       "array([1, 1, 0, ..., 1, 0, 1])"
      ]
     },
     "execution_count": 15,
     "metadata": {},
     "output_type": "execute_result"
    }
   ],
   "source": [
    "y"
   ]
  },
  {
   "cell_type": "code",
   "execution_count": 16,
   "id": "1822eb09",
   "metadata": {
    "execution": {
     "iopub.execute_input": "2024-02-27T11:11:24.731164Z",
     "iopub.status.busy": "2024-02-27T11:11:24.730614Z",
     "iopub.status.idle": "2024-02-27T11:11:24.736157Z",
     "shell.execute_reply": "2024-02-27T11:11:24.735396Z"
    },
    "papermill": {
     "duration": 0.018789,
     "end_time": "2024-02-27T11:11:24.738552",
     "exception": false,
     "start_time": "2024-02-27T11:11:24.719763",
     "status": "completed"
    },
    "tags": []
   },
   "outputs": [],
   "source": [
    "x_train,x_test,y_train,y_test=train_test_split(x,y,test_size=0.2,random_state=42)"
   ]
  },
  {
   "cell_type": "code",
   "execution_count": 17,
   "id": "63fbbade",
   "metadata": {
    "execution": {
     "iopub.execute_input": "2024-02-27T11:11:24.760854Z",
     "iopub.status.busy": "2024-02-27T11:11:24.760317Z",
     "iopub.status.idle": "2024-02-27T11:11:24.772956Z",
     "shell.execute_reply": "2024-02-27T11:11:24.771736Z"
    },
    "papermill": {
     "duration": 0.026007,
     "end_time": "2024-02-27T11:11:24.774875",
     "exception": false,
     "start_time": "2024-02-27T11:11:24.748868",
     "status": "completed"
    },
    "tags": []
   },
   "outputs": [
    {
     "data": {
      "text/html": [
       "<div>\n",
       "<style scoped>\n",
       "    .dataframe tbody tr th:only-of-type {\n",
       "        vertical-align: middle;\n",
       "    }\n",
       "\n",
       "    .dataframe tbody tr th {\n",
       "        vertical-align: top;\n",
       "    }\n",
       "\n",
       "    .dataframe thead th {\n",
       "        text-align: right;\n",
       "    }\n",
       "</style>\n",
       "<table border=\"1\" class=\"dataframe\">\n",
       "  <thead>\n",
       "    <tr style=\"text-align: right;\">\n",
       "      <th></th>\n",
       "      <th>Quality</th>\n",
       "      <th>Acidity</th>\n",
       "      <th>Ripeness</th>\n",
       "      <th>Juiciness</th>\n",
       "      <th>Crunchiness</th>\n",
       "      <th>Sweetness</th>\n",
       "      <th>Weight</th>\n",
       "      <th>Size</th>\n",
       "    </tr>\n",
       "    <tr>\n",
       "      <th>ID</th>\n",
       "      <th></th>\n",
       "      <th></th>\n",
       "      <th></th>\n",
       "      <th></th>\n",
       "      <th></th>\n",
       "      <th></th>\n",
       "      <th></th>\n",
       "      <th></th>\n",
       "    </tr>\n",
       "  </thead>\n",
       "  <tbody>\n",
       "    <tr>\n",
       "      <th>1629.0</th>\n",
       "      <td>1</td>\n",
       "      <td>-1.204729</td>\n",
       "      <td>1.089686</td>\n",
       "      <td>-2.317600</td>\n",
       "      <td>4.227448</td>\n",
       "      <td>-4.539610</td>\n",
       "      <td>-5.570705</td>\n",
       "      <td>0.300843</td>\n",
       "    </tr>\n",
       "    <tr>\n",
       "      <th>3073.0</th>\n",
       "      <td>0</td>\n",
       "      <td>-0.680335</td>\n",
       "      <td>3.035092</td>\n",
       "      <td>-1.588422</td>\n",
       "      <td>2.437270</td>\n",
       "      <td>-0.600152</td>\n",
       "      <td>-0.766355</td>\n",
       "      <td>-2.070346</td>\n",
       "    </tr>\n",
       "    <tr>\n",
       "      <th>1138.0</th>\n",
       "      <td>0</td>\n",
       "      <td>-1.192431</td>\n",
       "      <td>1.327658</td>\n",
       "      <td>-1.470258</td>\n",
       "      <td>3.513258</td>\n",
       "      <td>1.931253</td>\n",
       "      <td>-0.795279</td>\n",
       "      <td>-2.469140</td>\n",
       "    </tr>\n",
       "    <tr>\n",
       "      <th>3691.0</th>\n",
       "      <td>1</td>\n",
       "      <td>-4.120365</td>\n",
       "      <td>0.036148</td>\n",
       "      <td>1.681498</td>\n",
       "      <td>-0.260951</td>\n",
       "      <td>0.887527</td>\n",
       "      <td>-0.567991</td>\n",
       "      <td>-1.490275</td>\n",
       "    </tr>\n",
       "    <tr>\n",
       "      <th>3410.0</th>\n",
       "      <td>1</td>\n",
       "      <td>-0.435061</td>\n",
       "      <td>-3.473421</td>\n",
       "      <td>-1.161312</td>\n",
       "      <td>2.225846</td>\n",
       "      <td>-0.439672</td>\n",
       "      <td>2.053538</td>\n",
       "      <td>-3.115689</td>\n",
       "    </tr>\n",
       "  </tbody>\n",
       "</table>\n",
       "</div>"
      ],
      "text/plain": [
       "        Quality   Acidity  Ripeness  Juiciness  Crunchiness  Sweetness  \\\n",
       "ID                                                                       \n",
       "1629.0        1 -1.204729  1.089686  -2.317600     4.227448  -4.539610   \n",
       "3073.0        0 -0.680335  3.035092  -1.588422     2.437270  -0.600152   \n",
       "1138.0        0 -1.192431  1.327658  -1.470258     3.513258   1.931253   \n",
       "3691.0        1 -4.120365  0.036148   1.681498    -0.260951   0.887527   \n",
       "3410.0        1 -0.435061 -3.473421  -1.161312     2.225846  -0.439672   \n",
       "\n",
       "          Weight      Size  \n",
       "ID                          \n",
       "1629.0 -5.570705  0.300843  \n",
       "3073.0 -0.766355 -2.070346  \n",
       "1138.0 -0.795279 -2.469140  \n",
       "3691.0 -0.567991 -1.490275  \n",
       "3410.0  2.053538 -3.115689  "
      ]
     },
     "execution_count": 17,
     "metadata": {},
     "output_type": "execute_result"
    }
   ],
   "source": [
    "\n",
    "x_train.head()"
   ]
  },
  {
   "cell_type": "code",
   "execution_count": 18,
   "id": "2fcef651",
   "metadata": {
    "execution": {
     "iopub.execute_input": "2024-02-27T11:11:24.796229Z",
     "iopub.status.busy": "2024-02-27T11:11:24.795869Z",
     "iopub.status.idle": "2024-02-27T11:11:24.800448Z",
     "shell.execute_reply": "2024-02-27T11:11:24.799656Z"
    },
    "papermill": {
     "duration": 0.017182,
     "end_time": "2024-02-27T11:11:24.801987",
     "exception": false,
     "start_time": "2024-02-27T11:11:24.784805",
     "status": "completed"
    },
    "tags": []
   },
   "outputs": [],
   "source": [
    "input_shape=[x_train.shape[1]]"
   ]
  },
  {
   "cell_type": "code",
   "execution_count": 19,
   "id": "04b389a7",
   "metadata": {
    "execution": {
     "iopub.execute_input": "2024-02-27T11:11:24.824640Z",
     "iopub.status.busy": "2024-02-27T11:11:24.824237Z",
     "iopub.status.idle": "2024-02-27T11:11:37.732644Z",
     "shell.execute_reply": "2024-02-27T11:11:37.731687Z"
    },
    "papermill": {
     "duration": 12.922192,
     "end_time": "2024-02-27T11:11:37.734876",
     "exception": false,
     "start_time": "2024-02-27T11:11:24.812684",
     "status": "completed"
    },
    "tags": []
   },
   "outputs": [
    {
     "name": "stderr",
     "output_type": "stream",
     "text": [
      "2024-02-27 11:11:26.918194: E external/local_xla/xla/stream_executor/cuda/cuda_dnn.cc:9261] Unable to register cuDNN factory: Attempting to register factory for plugin cuDNN when one has already been registered\n",
      "2024-02-27 11:11:26.918304: E external/local_xla/xla/stream_executor/cuda/cuda_fft.cc:607] Unable to register cuFFT factory: Attempting to register factory for plugin cuFFT when one has already been registered\n",
      "2024-02-27 11:11:27.080174: E external/local_xla/xla/stream_executor/cuda/cuda_blas.cc:1515] Unable to register cuBLAS factory: Attempting to register factory for plugin cuBLAS when one has already been registered\n"
     ]
    }
   ],
   "source": [
    "\n",
    "import tensorflow as tf\n",
    "import keras\n",
    "from keras import layers\n",
    "from keras.layers import Dense,BatchNormalization,Dropout"
   ]
  },
  {
   "cell_type": "code",
   "execution_count": 20,
   "id": "2b2736f0",
   "metadata": {
    "execution": {
     "iopub.execute_input": "2024-02-27T11:11:37.756913Z",
     "iopub.status.busy": "2024-02-27T11:11:37.756272Z",
     "iopub.status.idle": "2024-02-27T11:11:37.940347Z",
     "shell.execute_reply": "2024-02-27T11:11:37.939142Z"
    },
    "papermill": {
     "duration": 0.19757,
     "end_time": "2024-02-27T11:11:37.942735",
     "exception": false,
     "start_time": "2024-02-27T11:11:37.745165",
     "status": "completed"
    },
    "tags": []
   },
   "outputs": [],
   "source": [
    "model=keras.Sequential([\n",
    "    layers.BatchNormalization(input_shape=input_shape),\n",
    "    layers.Dense(units='4',activation='relu'),\n",
    "    layers.BatchNormalization(),\n",
    "    layers.Dropout(0.3),\n",
    "    layers.Dense(units='2',activation='relu'),\n",
    "    layers.BatchNormalization(),\n",
    "    layers.Dropout(0.2),\n",
    "    layers.Dense(units=1,activation='sigmoid')\n",
    "    \n",
    "    \n",
    "])"
   ]
  },
  {
   "cell_type": "code",
   "execution_count": 21,
   "id": "91bb7f56",
   "metadata": {
    "execution": {
     "iopub.execute_input": "2024-02-27T11:11:37.972439Z",
     "iopub.status.busy": "2024-02-27T11:11:37.972005Z",
     "iopub.status.idle": "2024-02-27T11:11:38.011154Z",
     "shell.execute_reply": "2024-02-27T11:11:38.010137Z"
    },
    "papermill": {
     "duration": 0.053508,
     "end_time": "2024-02-27T11:11:38.013023",
     "exception": false,
     "start_time": "2024-02-27T11:11:37.959515",
     "status": "completed"
    },
    "tags": []
   },
   "outputs": [
    {
     "name": "stdout",
     "output_type": "stream",
     "text": [
      "Model: \"sequential\"\n",
      "_________________________________________________________________\n",
      " Layer (type)                Output Shape              Param #   \n",
      "=================================================================\n",
      " batch_normalization (Batch  (None, 8)                 32        \n",
      " Normalization)                                                  \n",
      "                                                                 \n",
      " dense (Dense)               (None, 4)                 36        \n",
      "                                                                 \n",
      " batch_normalization_1 (Bat  (None, 4)                 16        \n",
      " chNormalization)                                                \n",
      "                                                                 \n",
      " dropout (Dropout)           (None, 4)                 0         \n",
      "                                                                 \n",
      " dense_1 (Dense)             (None, 2)                 10        \n",
      "                                                                 \n",
      " batch_normalization_2 (Bat  (None, 2)                 8         \n",
      " chNormalization)                                                \n",
      "                                                                 \n",
      " dropout_1 (Dropout)         (None, 2)                 0         \n",
      "                                                                 \n",
      " dense_2 (Dense)             (None, 1)                 3         \n",
      "                                                                 \n",
      "=================================================================\n",
      "Total params: 105 (420.00 Byte)\n",
      "Trainable params: 77 (308.00 Byte)\n",
      "Non-trainable params: 28 (112.00 Byte)\n",
      "_________________________________________________________________\n"
     ]
    }
   ],
   "source": [
    "model.summary()"
   ]
  },
  {
   "cell_type": "code",
   "execution_count": 22,
   "id": "b250554a",
   "metadata": {
    "execution": {
     "iopub.execute_input": "2024-02-27T11:11:38.038020Z",
     "iopub.status.busy": "2024-02-27T11:11:38.037691Z",
     "iopub.status.idle": "2024-02-27T11:11:38.059565Z",
     "shell.execute_reply": "2024-02-27T11:11:38.058707Z"
    },
    "papermill": {
     "duration": 0.037331,
     "end_time": "2024-02-27T11:11:38.061989",
     "exception": false,
     "start_time": "2024-02-27T11:11:38.024658",
     "status": "completed"
    },
    "tags": []
   },
   "outputs": [],
   "source": [
    "model.compile(\n",
    "    optimizer='adam',\n",
    "    loss='binary_crossentropy',\n",
    "    metrics='binary_accuracy'\n",
    ")"
   ]
  },
  {
   "cell_type": "code",
   "execution_count": 23,
   "id": "218225ee",
   "metadata": {
    "execution": {
     "iopub.execute_input": "2024-02-27T11:11:38.092409Z",
     "iopub.status.busy": "2024-02-27T11:11:38.091992Z",
     "iopub.status.idle": "2024-02-27T11:11:38.097205Z",
     "shell.execute_reply": "2024-02-27T11:11:38.096403Z"
    },
    "papermill": {
     "duration": 0.021543,
     "end_time": "2024-02-27T11:11:38.099841",
     "exception": false,
     "start_time": "2024-02-27T11:11:38.078298",
     "status": "completed"
    },
    "tags": []
   },
   "outputs": [],
   "source": [
    "early_stopping=keras.callbacks.EarlyStopping(\n",
    "patience=5,\n",
    "    min_delta=0.001,\n",
    "    restore_best_weights=True\n",
    ")"
   ]
  },
  {
   "cell_type": "code",
   "execution_count": 24,
   "id": "76a5746d",
   "metadata": {
    "execution": {
     "iopub.execute_input": "2024-02-27T11:11:38.183522Z",
     "iopub.status.busy": "2024-02-27T11:11:38.183114Z",
     "iopub.status.idle": "2024-02-27T11:11:48.696179Z",
     "shell.execute_reply": "2024-02-27T11:11:48.694538Z"
    },
    "papermill": {
     "duration": 10.585041,
     "end_time": "2024-02-27T11:11:48.698760",
     "exception": false,
     "start_time": "2024-02-27T11:11:38.113719",
     "status": "completed"
    },
    "tags": []
   },
   "outputs": [
    {
     "name": "stdout",
     "output_type": "stream",
     "text": [
      "Epoch 1/200\n",
      "10/10 [==============================] - 2s 30ms/step - loss: 0.6916 - binary_accuracy: 0.5648 - val_loss: 0.7029 - val_binary_accuracy: 0.4766\n",
      "Epoch 2/200\n",
      "10/10 [==============================] - 0s 5ms/step - loss: 0.6792 - binary_accuracy: 0.5891 - val_loss: 0.7032 - val_binary_accuracy: 0.4719\n",
      "Epoch 3/200\n",
      "10/10 [==============================] - 0s 7ms/step - loss: 0.6768 - binary_accuracy: 0.5906 - val_loss: 0.7031 - val_binary_accuracy: 0.4781\n",
      "Epoch 4/200\n",
      "10/10 [==============================] - 0s 5ms/step - loss: 0.6619 - binary_accuracy: 0.6129 - val_loss: 0.7022 - val_binary_accuracy: 0.4844\n",
      "Epoch 5/200\n",
      "10/10 [==============================] - 0s 5ms/step - loss: 0.6568 - binary_accuracy: 0.6242 - val_loss: 0.7007 - val_binary_accuracy: 0.4969\n",
      "Epoch 6/200\n",
      "10/10 [==============================] - 0s 7ms/step - loss: 0.6388 - binary_accuracy: 0.6590 - val_loss: 0.6984 - val_binary_accuracy: 0.5156\n",
      "Epoch 7/200\n",
      "10/10 [==============================] - 0s 7ms/step - loss: 0.6288 - binary_accuracy: 0.6707 - val_loss: 0.6944 - val_binary_accuracy: 0.5500\n",
      "Epoch 8/200\n",
      "10/10 [==============================] - 0s 6ms/step - loss: 0.6149 - binary_accuracy: 0.7000 - val_loss: 0.6887 - val_binary_accuracy: 0.5828\n",
      "Epoch 9/200\n",
      "10/10 [==============================] - 0s 7ms/step - loss: 0.6014 - binary_accuracy: 0.7168 - val_loss: 0.6804 - val_binary_accuracy: 0.6625\n",
      "Epoch 10/200\n",
      "10/10 [==============================] - 0s 6ms/step - loss: 0.5824 - binary_accuracy: 0.7508 - val_loss: 0.6691 - val_binary_accuracy: 0.7094\n",
      "Epoch 11/200\n",
      "10/10 [==============================] - 0s 7ms/step - loss: 0.5666 - binary_accuracy: 0.7676 - val_loss: 0.6544 - val_binary_accuracy: 0.7547\n",
      "Epoch 12/200\n",
      "10/10 [==============================] - 0s 5ms/step - loss: 0.5544 - binary_accuracy: 0.7750 - val_loss: 0.6369 - val_binary_accuracy: 0.7844\n",
      "Epoch 13/200\n",
      "10/10 [==============================] - 0s 8ms/step - loss: 0.5302 - binary_accuracy: 0.8102 - val_loss: 0.6153 - val_binary_accuracy: 0.8594\n",
      "Epoch 14/200\n",
      "10/10 [==============================] - 0s 6ms/step - loss: 0.5124 - binary_accuracy: 0.8246 - val_loss: 0.5897 - val_binary_accuracy: 0.9016\n",
      "Epoch 15/200\n",
      "10/10 [==============================] - 0s 7ms/step - loss: 0.4922 - binary_accuracy: 0.8391 - val_loss: 0.5613 - val_binary_accuracy: 0.9406\n",
      "Epoch 16/200\n",
      "10/10 [==============================] - 0s 6ms/step - loss: 0.4703 - binary_accuracy: 0.8680 - val_loss: 0.5320 - val_binary_accuracy: 0.9609\n",
      "Epoch 17/200\n",
      "10/10 [==============================] - 0s 6ms/step - loss: 0.4498 - binary_accuracy: 0.8816 - val_loss: 0.5024 - val_binary_accuracy: 0.9750\n",
      "Epoch 18/200\n",
      "10/10 [==============================] - 0s 6ms/step - loss: 0.4323 - binary_accuracy: 0.8918 - val_loss: 0.4730 - val_binary_accuracy: 0.9953\n",
      "Epoch 19/200\n",
      "10/10 [==============================] - 0s 7ms/step - loss: 0.4179 - binary_accuracy: 0.8926 - val_loss: 0.4436 - val_binary_accuracy: 0.9984\n",
      "Epoch 20/200\n",
      "10/10 [==============================] - 0s 6ms/step - loss: 0.4074 - binary_accuracy: 0.8980 - val_loss: 0.4154 - val_binary_accuracy: 0.9984\n",
      "Epoch 21/200\n",
      "10/10 [==============================] - 0s 6ms/step - loss: 0.3852 - binary_accuracy: 0.9082 - val_loss: 0.3898 - val_binary_accuracy: 0.9984\n",
      "Epoch 22/200\n",
      "10/10 [==============================] - 0s 5ms/step - loss: 0.3771 - binary_accuracy: 0.9223 - val_loss: 0.3659 - val_binary_accuracy: 1.0000\n",
      "Epoch 23/200\n",
      "10/10 [==============================] - 0s 5ms/step - loss: 0.3615 - binary_accuracy: 0.9262 - val_loss: 0.3441 - val_binary_accuracy: 1.0000\n",
      "Epoch 24/200\n",
      "10/10 [==============================] - 0s 6ms/step - loss: 0.3561 - binary_accuracy: 0.9289 - val_loss: 0.3248 - val_binary_accuracy: 1.0000\n",
      "Epoch 25/200\n",
      "10/10 [==============================] - 0s 5ms/step - loss: 0.3377 - binary_accuracy: 0.9262 - val_loss: 0.3073 - val_binary_accuracy: 1.0000\n",
      "Epoch 26/200\n",
      "10/10 [==============================] - 0s 6ms/step - loss: 0.3303 - binary_accuracy: 0.9297 - val_loss: 0.2915 - val_binary_accuracy: 1.0000\n",
      "Epoch 27/200\n",
      "10/10 [==============================] - 0s 5ms/step - loss: 0.3172 - binary_accuracy: 0.9379 - val_loss: 0.2772 - val_binary_accuracy: 1.0000\n",
      "Epoch 28/200\n",
      "10/10 [==============================] - 0s 6ms/step - loss: 0.3064 - binary_accuracy: 0.9383 - val_loss: 0.2645 - val_binary_accuracy: 1.0000\n",
      "Epoch 29/200\n",
      "10/10 [==============================] - 0s 8ms/step - loss: 0.3023 - binary_accuracy: 0.9340 - val_loss: 0.2528 - val_binary_accuracy: 1.0000\n",
      "Epoch 30/200\n",
      "10/10 [==============================] - 0s 8ms/step - loss: 0.2931 - binary_accuracy: 0.9387 - val_loss: 0.2419 - val_binary_accuracy: 1.0000\n",
      "Epoch 31/200\n",
      "10/10 [==============================] - 0s 8ms/step - loss: 0.2832 - binary_accuracy: 0.9441 - val_loss: 0.2319 - val_binary_accuracy: 1.0000\n",
      "Epoch 32/200\n",
      "10/10 [==============================] - 0s 8ms/step - loss: 0.2761 - binary_accuracy: 0.9438 - val_loss: 0.2225 - val_binary_accuracy: 1.0000\n",
      "Epoch 33/200\n",
      "10/10 [==============================] - 0s 7ms/step - loss: 0.2694 - binary_accuracy: 0.9477 - val_loss: 0.2140 - val_binary_accuracy: 1.0000\n",
      "Epoch 34/200\n",
      "10/10 [==============================] - 0s 6ms/step - loss: 0.2641 - binary_accuracy: 0.9465 - val_loss: 0.2059 - val_binary_accuracy: 1.0000\n",
      "Epoch 35/200\n",
      "10/10 [==============================] - 0s 6ms/step - loss: 0.2545 - binary_accuracy: 0.9484 - val_loss: 0.1988 - val_binary_accuracy: 1.0000\n",
      "Epoch 36/200\n",
      "10/10 [==============================] - 0s 6ms/step - loss: 0.2470 - binary_accuracy: 0.9492 - val_loss: 0.1916 - val_binary_accuracy: 1.0000\n",
      "Epoch 37/200\n",
      "10/10 [==============================] - 0s 6ms/step - loss: 0.2396 - binary_accuracy: 0.9449 - val_loss: 0.1849 - val_binary_accuracy: 1.0000\n",
      "Epoch 38/200\n",
      "10/10 [==============================] - 0s 6ms/step - loss: 0.2379 - binary_accuracy: 0.9496 - val_loss: 0.1785 - val_binary_accuracy: 1.0000\n",
      "Epoch 39/200\n",
      "10/10 [==============================] - 0s 6ms/step - loss: 0.2295 - binary_accuracy: 0.9547 - val_loss: 0.1727 - val_binary_accuracy: 1.0000\n",
      "Epoch 40/200\n",
      "10/10 [==============================] - 0s 6ms/step - loss: 0.2293 - binary_accuracy: 0.9480 - val_loss: 0.1668 - val_binary_accuracy: 1.0000\n",
      "Epoch 41/200\n",
      "10/10 [==============================] - 0s 6ms/step - loss: 0.2175 - binary_accuracy: 0.9574 - val_loss: 0.1615 - val_binary_accuracy: 1.0000\n",
      "Epoch 42/200\n",
      "10/10 [==============================] - 0s 6ms/step - loss: 0.2162 - binary_accuracy: 0.9527 - val_loss: 0.1556 - val_binary_accuracy: 1.0000\n",
      "Epoch 43/200\n",
      "10/10 [==============================] - 0s 6ms/step - loss: 0.2031 - binary_accuracy: 0.9594 - val_loss: 0.1504 - val_binary_accuracy: 1.0000\n",
      "Epoch 44/200\n",
      "10/10 [==============================] - 0s 7ms/step - loss: 0.2070 - binary_accuracy: 0.9527 - val_loss: 0.1451 - val_binary_accuracy: 1.0000\n",
      "Epoch 45/200\n",
      "10/10 [==============================] - 0s 6ms/step - loss: 0.1934 - binary_accuracy: 0.9551 - val_loss: 0.1402 - val_binary_accuracy: 1.0000\n",
      "Epoch 46/200\n",
      "10/10 [==============================] - 0s 7ms/step - loss: 0.1931 - binary_accuracy: 0.9602 - val_loss: 0.1352 - val_binary_accuracy: 1.0000\n",
      "Epoch 47/200\n",
      "10/10 [==============================] - 0s 6ms/step - loss: 0.1879 - binary_accuracy: 0.9559 - val_loss: 0.1303 - val_binary_accuracy: 1.0000\n",
      "Epoch 48/200\n",
      "10/10 [==============================] - 0s 6ms/step - loss: 0.1888 - binary_accuracy: 0.9594 - val_loss: 0.1255 - val_binary_accuracy: 1.0000\n",
      "Epoch 49/200\n",
      "10/10 [==============================] - 0s 6ms/step - loss: 0.1841 - binary_accuracy: 0.9594 - val_loss: 0.1212 - val_binary_accuracy: 1.0000\n",
      "Epoch 50/200\n",
      "10/10 [==============================] - 0s 8ms/step - loss: 0.1776 - binary_accuracy: 0.9629 - val_loss: 0.1171 - val_binary_accuracy: 1.0000\n",
      "Epoch 51/200\n",
      "10/10 [==============================] - 0s 7ms/step - loss: 0.1778 - binary_accuracy: 0.9617 - val_loss: 0.1135 - val_binary_accuracy: 1.0000\n",
      "Epoch 52/200\n",
      "10/10 [==============================] - 0s 6ms/step - loss: 0.1716 - binary_accuracy: 0.9641 - val_loss: 0.1100 - val_binary_accuracy: 1.0000\n",
      "Epoch 53/200\n",
      "10/10 [==============================] - 0s 8ms/step - loss: 0.1659 - binary_accuracy: 0.9664 - val_loss: 0.1060 - val_binary_accuracy: 1.0000\n",
      "Epoch 54/200\n",
      "10/10 [==============================] - 0s 8ms/step - loss: 0.1656 - binary_accuracy: 0.9598 - val_loss: 0.1021 - val_binary_accuracy: 1.0000\n",
      "Epoch 55/200\n",
      "10/10 [==============================] - 0s 9ms/step - loss: 0.1643 - binary_accuracy: 0.9613 - val_loss: 0.0985 - val_binary_accuracy: 1.0000\n",
      "Epoch 56/200\n",
      "10/10 [==============================] - 0s 7ms/step - loss: 0.1627 - binary_accuracy: 0.9645 - val_loss: 0.0952 - val_binary_accuracy: 1.0000\n",
      "Epoch 57/200\n",
      "10/10 [==============================] - 0s 8ms/step - loss: 0.1589 - binary_accuracy: 0.9621 - val_loss: 0.0917 - val_binary_accuracy: 1.0000\n",
      "Epoch 58/200\n",
      "10/10 [==============================] - 0s 7ms/step - loss: 0.1468 - binary_accuracy: 0.9703 - val_loss: 0.0884 - val_binary_accuracy: 1.0000\n",
      "Epoch 59/200\n",
      "10/10 [==============================] - 0s 5ms/step - loss: 0.1499 - binary_accuracy: 0.9660 - val_loss: 0.0853 - val_binary_accuracy: 1.0000\n",
      "Epoch 60/200\n",
      "10/10 [==============================] - 0s 8ms/step - loss: 0.1514 - binary_accuracy: 0.9637 - val_loss: 0.0821 - val_binary_accuracy: 1.0000\n",
      "Epoch 61/200\n",
      "10/10 [==============================] - 0s 6ms/step - loss: 0.1441 - binary_accuracy: 0.9723 - val_loss: 0.0792 - val_binary_accuracy: 1.0000\n",
      "Epoch 62/200\n",
      "10/10 [==============================] - 0s 6ms/step - loss: 0.1432 - binary_accuracy: 0.9695 - val_loss: 0.0763 - val_binary_accuracy: 1.0000\n",
      "Epoch 63/200\n",
      "10/10 [==============================] - 0s 6ms/step - loss: 0.1411 - binary_accuracy: 0.9707 - val_loss: 0.0735 - val_binary_accuracy: 1.0000\n",
      "Epoch 64/200\n",
      "10/10 [==============================] - 0s 7ms/step - loss: 0.1307 - binary_accuracy: 0.9766 - val_loss: 0.0710 - val_binary_accuracy: 1.0000\n",
      "Epoch 65/200\n",
      "10/10 [==============================] - 0s 6ms/step - loss: 0.1329 - binary_accuracy: 0.9727 - val_loss: 0.0686 - val_binary_accuracy: 1.0000\n",
      "Epoch 66/200\n",
      "10/10 [==============================] - 0s 6ms/step - loss: 0.1335 - binary_accuracy: 0.9699 - val_loss: 0.0662 - val_binary_accuracy: 1.0000\n",
      "Epoch 67/200\n",
      "10/10 [==============================] - 0s 6ms/step - loss: 0.1353 - binary_accuracy: 0.9688 - val_loss: 0.0641 - val_binary_accuracy: 1.0000\n",
      "Epoch 68/200\n",
      "10/10 [==============================] - 0s 6ms/step - loss: 0.1253 - binary_accuracy: 0.9707 - val_loss: 0.0619 - val_binary_accuracy: 1.0000\n",
      "Epoch 69/200\n",
      "10/10 [==============================] - 0s 7ms/step - loss: 0.1236 - binary_accuracy: 0.9758 - val_loss: 0.0599 - val_binary_accuracy: 1.0000\n",
      "Epoch 70/200\n",
      "10/10 [==============================] - 0s 6ms/step - loss: 0.1222 - binary_accuracy: 0.9777 - val_loss: 0.0576 - val_binary_accuracy: 1.0000\n",
      "Epoch 71/200\n",
      "10/10 [==============================] - 0s 6ms/step - loss: 0.1186 - binary_accuracy: 0.9723 - val_loss: 0.0554 - val_binary_accuracy: 1.0000\n",
      "Epoch 72/200\n",
      "10/10 [==============================] - 0s 6ms/step - loss: 0.1183 - binary_accuracy: 0.9758 - val_loss: 0.0533 - val_binary_accuracy: 1.0000\n",
      "Epoch 73/200\n",
      "10/10 [==============================] - 0s 6ms/step - loss: 0.1274 - binary_accuracy: 0.9688 - val_loss: 0.0514 - val_binary_accuracy: 1.0000\n",
      "Epoch 74/200\n",
      "10/10 [==============================] - 0s 7ms/step - loss: 0.1228 - binary_accuracy: 0.9715 - val_loss: 0.0496 - val_binary_accuracy: 1.0000\n",
      "Epoch 75/200\n",
      "10/10 [==============================] - 0s 6ms/step - loss: 0.1161 - binary_accuracy: 0.9746 - val_loss: 0.0480 - val_binary_accuracy: 1.0000\n",
      "Epoch 76/200\n",
      "10/10 [==============================] - 0s 6ms/step - loss: 0.1125 - binary_accuracy: 0.9762 - val_loss: 0.0464 - val_binary_accuracy: 1.0000\n",
      "Epoch 77/200\n",
      "10/10 [==============================] - 0s 6ms/step - loss: 0.1128 - binary_accuracy: 0.9711 - val_loss: 0.0449 - val_binary_accuracy: 1.0000\n",
      "Epoch 78/200\n",
      "10/10 [==============================] - 0s 6ms/step - loss: 0.1135 - binary_accuracy: 0.9727 - val_loss: 0.0434 - val_binary_accuracy: 1.0000\n",
      "Epoch 79/200\n",
      "10/10 [==============================] - 0s 6ms/step - loss: 0.1102 - binary_accuracy: 0.9711 - val_loss: 0.0421 - val_binary_accuracy: 1.0000\n",
      "Epoch 80/200\n",
      "10/10 [==============================] - 0s 6ms/step - loss: 0.1097 - binary_accuracy: 0.9715 - val_loss: 0.0405 - val_binary_accuracy: 1.0000\n",
      "Epoch 81/200\n",
      "10/10 [==============================] - 0s 6ms/step - loss: 0.1039 - binary_accuracy: 0.9730 - val_loss: 0.0391 - val_binary_accuracy: 1.0000\n",
      "Epoch 82/200\n",
      "10/10 [==============================] - 0s 6ms/step - loss: 0.1050 - binary_accuracy: 0.9754 - val_loss: 0.0380 - val_binary_accuracy: 1.0000\n",
      "Epoch 83/200\n",
      "10/10 [==============================] - 0s 6ms/step - loss: 0.0971 - binary_accuracy: 0.9789 - val_loss: 0.0368 - val_binary_accuracy: 1.0000\n",
      "Epoch 84/200\n",
      "10/10 [==============================] - 0s 6ms/step - loss: 0.1018 - binary_accuracy: 0.9723 - val_loss: 0.0357 - val_binary_accuracy: 1.0000\n",
      "Epoch 85/200\n",
      "10/10 [==============================] - 0s 7ms/step - loss: 0.1035 - binary_accuracy: 0.9691 - val_loss: 0.0345 - val_binary_accuracy: 1.0000\n",
      "Epoch 86/200\n",
      "10/10 [==============================] - 0s 7ms/step - loss: 0.0953 - binary_accuracy: 0.9750 - val_loss: 0.0335 - val_binary_accuracy: 1.0000\n",
      "Epoch 87/200\n",
      "10/10 [==============================] - 0s 6ms/step - loss: 0.0946 - binary_accuracy: 0.9742 - val_loss: 0.0325 - val_binary_accuracy: 1.0000\n",
      "Epoch 88/200\n",
      "10/10 [==============================] - 0s 6ms/step - loss: 0.0953 - binary_accuracy: 0.9766 - val_loss: 0.0317 - val_binary_accuracy: 1.0000\n",
      "Epoch 89/200\n",
      "10/10 [==============================] - 0s 5ms/step - loss: 0.0915 - binary_accuracy: 0.9754 - val_loss: 0.0309 - val_binary_accuracy: 1.0000\n",
      "Epoch 90/200\n",
      "10/10 [==============================] - 0s 7ms/step - loss: 0.0940 - binary_accuracy: 0.9746 - val_loss: 0.0301 - val_binary_accuracy: 1.0000\n",
      "Epoch 91/200\n",
      "10/10 [==============================] - 0s 8ms/step - loss: 0.0933 - binary_accuracy: 0.9746 - val_loss: 0.0293 - val_binary_accuracy: 1.0000\n",
      "Epoch 92/200\n",
      "10/10 [==============================] - 0s 6ms/step - loss: 0.0896 - binary_accuracy: 0.9766 - val_loss: 0.0285 - val_binary_accuracy: 1.0000\n",
      "Epoch 93/200\n",
      "10/10 [==============================] - 0s 6ms/step - loss: 0.0889 - binary_accuracy: 0.9777 - val_loss: 0.0276 - val_binary_accuracy: 1.0000\n",
      "Epoch 94/200\n",
      "10/10 [==============================] - 0s 7ms/step - loss: 0.0884 - binary_accuracy: 0.9719 - val_loss: 0.0269 - val_binary_accuracy: 1.0000\n",
      "Epoch 95/200\n",
      "10/10 [==============================] - 0s 5ms/step - loss: 0.0830 - binary_accuracy: 0.9762 - val_loss: 0.0260 - val_binary_accuracy: 1.0000\n",
      "Epoch 96/200\n",
      "10/10 [==============================] - 0s 7ms/step - loss: 0.0890 - binary_accuracy: 0.9801 - val_loss: 0.0252 - val_binary_accuracy: 1.0000\n",
      "Epoch 97/200\n",
      "10/10 [==============================] - 0s 6ms/step - loss: 0.0886 - binary_accuracy: 0.9742 - val_loss: 0.0241 - val_binary_accuracy: 1.0000\n",
      "Epoch 98/200\n",
      "10/10 [==============================] - 0s 5ms/step - loss: 0.0864 - binary_accuracy: 0.9742 - val_loss: 0.0234 - val_binary_accuracy: 1.0000\n",
      "Epoch 99/200\n",
      "10/10 [==============================] - 0s 8ms/step - loss: 0.0819 - binary_accuracy: 0.9734 - val_loss: 0.0229 - val_binary_accuracy: 1.0000\n",
      "Epoch 100/200\n",
      "10/10 [==============================] - 0s 7ms/step - loss: 0.0887 - binary_accuracy: 0.9746 - val_loss: 0.0222 - val_binary_accuracy: 1.0000\n",
      "Epoch 101/200\n",
      "10/10 [==============================] - 0s 6ms/step - loss: 0.0840 - binary_accuracy: 0.9742 - val_loss: 0.0217 - val_binary_accuracy: 1.0000\n",
      "Epoch 102/200\n",
      "10/10 [==============================] - 0s 6ms/step - loss: 0.0809 - binary_accuracy: 0.9789 - val_loss: 0.0213 - val_binary_accuracy: 1.0000\n",
      "Epoch 103/200\n",
      "10/10 [==============================] - 0s 6ms/step - loss: 0.0881 - binary_accuracy: 0.9734 - val_loss: 0.0207 - val_binary_accuracy: 1.0000\n",
      "Epoch 104/200\n",
      "10/10 [==============================] - 0s 6ms/step - loss: 0.0797 - binary_accuracy: 0.9754 - val_loss: 0.0201 - val_binary_accuracy: 1.0000\n",
      "Epoch 105/200\n",
      "10/10 [==============================] - 0s 6ms/step - loss: 0.0786 - binary_accuracy: 0.9738 - val_loss: 0.0195 - val_binary_accuracy: 1.0000\n",
      "Epoch 106/200\n",
      "10/10 [==============================] - 0s 6ms/step - loss: 0.0809 - binary_accuracy: 0.9766 - val_loss: 0.0189 - val_binary_accuracy: 1.0000\n",
      "Epoch 107/200\n",
      "10/10 [==============================] - 0s 6ms/step - loss: 0.0863 - binary_accuracy: 0.9707 - val_loss: 0.0184 - val_binary_accuracy: 1.0000\n",
      "Epoch 108/200\n",
      "10/10 [==============================] - 0s 6ms/step - loss: 0.0819 - binary_accuracy: 0.9727 - val_loss: 0.0179 - val_binary_accuracy: 1.0000\n",
      "Epoch 109/200\n",
      "10/10 [==============================] - 0s 5ms/step - loss: 0.0811 - binary_accuracy: 0.9738 - val_loss: 0.0174 - val_binary_accuracy: 1.0000\n",
      "Epoch 110/200\n",
      "10/10 [==============================] - 0s 8ms/step - loss: 0.0874 - binary_accuracy: 0.9684 - val_loss: 0.0168 - val_binary_accuracy: 1.0000\n",
      "Epoch 111/200\n",
      "10/10 [==============================] - 0s 6ms/step - loss: 0.0757 - binary_accuracy: 0.9762 - val_loss: 0.0164 - val_binary_accuracy: 1.0000\n",
      "Epoch 112/200\n",
      "10/10 [==============================] - 0s 8ms/step - loss: 0.0751 - binary_accuracy: 0.9770 - val_loss: 0.0160 - val_binary_accuracy: 1.0000\n",
      "Epoch 113/200\n",
      "10/10 [==============================] - 0s 6ms/step - loss: 0.0769 - binary_accuracy: 0.9719 - val_loss: 0.0155 - val_binary_accuracy: 1.0000\n",
      "Epoch 114/200\n",
      "10/10 [==============================] - 0s 6ms/step - loss: 0.0782 - binary_accuracy: 0.9723 - val_loss: 0.0151 - val_binary_accuracy: 1.0000\n",
      "Epoch 115/200\n",
      "10/10 [==============================] - 0s 5ms/step - loss: 0.0731 - binary_accuracy: 0.9785 - val_loss: 0.0147 - val_binary_accuracy: 1.0000\n",
      "Epoch 116/200\n",
      "10/10 [==============================] - 0s 6ms/step - loss: 0.0794 - binary_accuracy: 0.9734 - val_loss: 0.0143 - val_binary_accuracy: 1.0000\n",
      "Epoch 117/200\n",
      "10/10 [==============================] - 0s 6ms/step - loss: 0.0736 - binary_accuracy: 0.9781 - val_loss: 0.0140 - val_binary_accuracy: 1.0000\n",
      "Epoch 118/200\n",
      "10/10 [==============================] - 0s 6ms/step - loss: 0.0696 - binary_accuracy: 0.9762 - val_loss: 0.0136 - val_binary_accuracy: 1.0000\n",
      "Epoch 119/200\n",
      "10/10 [==============================] - 0s 7ms/step - loss: 0.0739 - binary_accuracy: 0.9723 - val_loss: 0.0133 - val_binary_accuracy: 1.0000\n",
      "Epoch 120/200\n",
      "10/10 [==============================] - 0s 6ms/step - loss: 0.0736 - binary_accuracy: 0.9738 - val_loss: 0.0130 - val_binary_accuracy: 1.0000\n",
      "Epoch 121/200\n",
      "10/10 [==============================] - 0s 7ms/step - loss: 0.0714 - binary_accuracy: 0.9719 - val_loss: 0.0127 - val_binary_accuracy: 1.0000\n",
      "Epoch 122/200\n",
      "10/10 [==============================] - 0s 5ms/step - loss: 0.0722 - binary_accuracy: 0.9727 - val_loss: 0.0124 - val_binary_accuracy: 1.0000\n",
      "Epoch 123/200\n",
      "10/10 [==============================] - 0s 6ms/step - loss: 0.0683 - binary_accuracy: 0.9797 - val_loss: 0.0121 - val_binary_accuracy: 1.0000\n",
      "Epoch 124/200\n",
      "10/10 [==============================] - 0s 5ms/step - loss: 0.0691 - binary_accuracy: 0.9719 - val_loss: 0.0117 - val_binary_accuracy: 1.0000\n",
      "Epoch 125/200\n",
      "10/10 [==============================] - 0s 5ms/step - loss: 0.0646 - binary_accuracy: 0.9793 - val_loss: 0.0115 - val_binary_accuracy: 1.0000\n",
      "Epoch 126/200\n",
      "10/10 [==============================] - 0s 5ms/step - loss: 0.0718 - binary_accuracy: 0.9758 - val_loss: 0.0112 - val_binary_accuracy: 1.0000\n",
      "Epoch 127/200\n",
      "10/10 [==============================] - 0s 7ms/step - loss: 0.0662 - binary_accuracy: 0.9777 - val_loss: 0.0109 - val_binary_accuracy: 1.0000\n",
      "Epoch 128/200\n",
      "10/10 [==============================] - 0s 8ms/step - loss: 0.0735 - binary_accuracy: 0.9750 - val_loss: 0.0106 - val_binary_accuracy: 1.0000\n",
      "Epoch 129/200\n",
      "10/10 [==============================] - 0s 8ms/step - loss: 0.0658 - binary_accuracy: 0.9758 - val_loss: 0.0104 - val_binary_accuracy: 1.0000\n",
      "Epoch 130/200\n",
      "10/10 [==============================] - 0s 7ms/step - loss: 0.0630 - binary_accuracy: 0.9777 - val_loss: 0.0102 - val_binary_accuracy: 1.0000\n",
      "Epoch 131/200\n",
      "10/10 [==============================] - 0s 6ms/step - loss: 0.0675 - binary_accuracy: 0.9766 - val_loss: 0.0100 - val_binary_accuracy: 1.0000\n",
      "Epoch 132/200\n",
      "10/10 [==============================] - 0s 6ms/step - loss: 0.0676 - binary_accuracy: 0.9750 - val_loss: 0.0097 - val_binary_accuracy: 1.0000\n",
      "Epoch 133/200\n",
      "10/10 [==============================] - 0s 6ms/step - loss: 0.0672 - binary_accuracy: 0.9801 - val_loss: 0.0096 - val_binary_accuracy: 1.0000\n",
      "Epoch 134/200\n",
      "10/10 [==============================] - 0s 7ms/step - loss: 0.0658 - binary_accuracy: 0.9746 - val_loss: 0.0094 - val_binary_accuracy: 1.0000\n",
      "Epoch 135/200\n",
      "10/10 [==============================] - 0s 6ms/step - loss: 0.0635 - binary_accuracy: 0.9770 - val_loss: 0.0092 - val_binary_accuracy: 1.0000\n",
      "Epoch 136/200\n",
      "10/10 [==============================] - 0s 6ms/step - loss: 0.0608 - binary_accuracy: 0.9797 - val_loss: 0.0090 - val_binary_accuracy: 1.0000\n",
      "Epoch 137/200\n",
      "10/10 [==============================] - 0s 7ms/step - loss: 0.0590 - binary_accuracy: 0.9805 - val_loss: 0.0088 - val_binary_accuracy: 1.0000\n"
     ]
    }
   ],
   "source": [
    "history=model.fit(\n",
    "x_train,y_train,\n",
    "    validation_data=(x_test,y_test),\n",
    "    batch_size=256,\n",
    "    epochs=200,\n",
    "    callbacks=[early_stopping]\n",
    ")"
   ]
  },
  {
   "cell_type": "code",
   "execution_count": 25,
   "id": "e52dd180",
   "metadata": {
    "execution": {
     "iopub.execute_input": "2024-02-27T11:11:48.773039Z",
     "iopub.status.busy": "2024-02-27T11:11:48.772691Z",
     "iopub.status.idle": "2024-02-27T11:11:49.008411Z",
     "shell.execute_reply": "2024-02-27T11:11:49.007084Z"
    },
    "papermill": {
     "duration": 0.274449,
     "end_time": "2024-02-27T11:11:49.010234",
     "exception": false,
     "start_time": "2024-02-27T11:11:48.735785",
     "status": "completed"
    },
    "tags": []
   },
   "outputs": [
    {
     "data": {
      "image/png": "[encoded data removed]",
      "text/plain": [
       "<Figure size 640x480 with 1 Axes>"
      ]
     },
     "metadata": {},
     "output_type": "display_data"
    }
   ],
   "source": [
    "history_df=pd.DataFrame(history.history)\n",
    "history_df.loc[:,['loss','val_loss']].plot()\n",
    "plt.show()"
   ]
  },
  {
   "cell_type": "code",
   "execution_count": 26,
   "id": "1cfc6b6e",
   "metadata": {
    "execution": {
     "iopub.execute_input": "2024-02-27T11:11:49.084754Z",
     "iopub.status.busy": "2024-02-27T11:11:49.084438Z",
     "iopub.status.idle": "2024-02-27T11:11:49.264997Z",
     "shell.execute_reply": "2024-02-27T11:11:49.263914Z"
    },
    "papermill": {
     "duration": 0.220625,
     "end_time": "2024-02-27T11:11:49.266656",
     "exception": false,
     "start_time": "2024-02-27T11:11:49.046031",
     "status": "completed"
    },
    "tags": []
   },
   "outputs": [
    {
     "data": {
      "image/png": "[encoded data removed]",
      "text/plain": [
       "<Figure size 640x480 with 1 Axes>"
      ]
     },
     "metadata": {},
     "output_type": "display_data"
    }
   ],
   "source": [
    "history_df=pd.DataFrame(history.history)\n",
    "history_df.loc[:,['loss','val_loss']].plot()\n",
    "plt.show()"
   ]
  },
  {
   "cell_type": "code",
   "execution_count": 27,
   "id": "b59bf35f",
   "metadata": {
    "execution": {
     "iopub.execute_input": "2024-02-27T11:11:49.342514Z",
     "iopub.status.busy": "2024-02-27T11:11:49.341711Z",
     "iopub.status.idle": "2024-02-27T11:11:49.563098Z",
     "shell.execute_reply": "2024-02-27T11:11:49.561882Z"
    },
    "papermill": {
     "duration": 0.262,
     "end_time": "2024-02-27T11:11:49.565542",
     "exception": false,
     "start_time": "2024-02-27T11:11:49.303542",
     "status": "completed"
    },
    "tags": []
   },
   "outputs": [
    {
     "name": "stdout",
     "output_type": "stream",
     "text": [
      "20/20 [==============================] - 0s 2ms/step\n",
      "(640,) (640, 1)\n"
     ]
    }
   ],
   "source": [
    "predictions=model.predict(x_test)\n",
    "predictionsx= np.round_(predictions).astype(int)\n",
    "print(y_test.shape,predictions.shape)"
   ]
  },
  {
   "cell_type": "code",
   "execution_count": 28,
   "id": "23de898f",
   "metadata": {
    "execution": {
     "iopub.execute_input": "2024-02-27T11:11:49.643365Z",
     "iopub.status.busy": "2024-02-27T11:11:49.641550Z",
     "iopub.status.idle": "2024-02-27T11:11:49.649477Z",
     "shell.execute_reply": "2024-02-27T11:11:49.648094Z"
    },
    "papermill": {
     "duration": 0.048487,
     "end_time": "2024-02-27T11:11:49.651557",
     "exception": false,
     "start_time": "2024-02-27T11:11:49.603070",
     "status": "completed"
    },
    "tags": []
   },
   "outputs": [
    {
     "name": "stdout",
     "output_type": "stream",
     "text": [
      "[[305   0]\n",
      " [  0 335]]\n"
     ]
    }
   ],
   "source": [
    "from sklearn.metrics import confusion_matrix\n",
    "confusionmatrix=confusion_matrix(predictionsx,y_test)\n",
    "print(confusionmatrix)"
   ]
  },
  {
   "cell_type": "code",
   "execution_count": 29,
   "id": "00227d0e",
   "metadata": {
    "execution": {
     "iopub.execute_input": "2024-02-27T11:11:49.727387Z",
     "iopub.status.busy": "2024-02-27T11:11:49.726924Z",
     "iopub.status.idle": "2024-02-27T11:11:49.908235Z",
     "shell.execute_reply": "2024-02-27T11:11:49.907393Z"
    },
    "papermill": {
     "duration": 0.221293,
     "end_time": "2024-02-27T11:11:49.910019",
     "exception": false,
     "start_time": "2024-02-27T11:11:49.688726",
     "status": "completed"
    },
    "tags": []
   },
   "outputs": [
    {
     "data": {
      "image/png": "[encoded data removed]",
      "text/plain": [
       "<Figure size 800x600 with 2 Axes>"
      ]
     },
     "metadata": {},
     "output_type": "display_data"
    }
   ],
   "source": [
    "plt.rcParams['figure.figsize']=[8,6]\n",
    "import seaborn as sns\n",
    "sns.heatmap(confusionmatrix,annot=True,fmt='g',xticklabels=['Predicted Postive ','Predicted Negitive'],yticklabels=['True Postive ','True Negitive'])\n",
    "plt.show()"
   ]
  },
  {
   "cell_type": "code",
   "execution_count": 30,
   "id": "c5a1126a",
   "metadata": {
    "execution": {
     "iopub.execute_input": "2024-02-27T11:11:49.986092Z",
     "iopub.status.busy": "2024-02-27T11:11:49.985030Z",
     "iopub.status.idle": "2024-02-27T11:11:50.104271Z",
     "shell.execute_reply": "2024-02-27T11:11:50.102829Z"
    },
    "papermill": {
     "duration": 0.159257,
     "end_time": "2024-02-27T11:11:50.106666",
     "exception": false,
     "start_time": "2024-02-27T11:11:49.947409",
     "status": "completed"
    },
    "tags": []
   },
   "outputs": [
    {
     "name": "stdout",
     "output_type": "stream",
     "text": [
      "25/25 [==============================] - 0s 1ms/step\n"
     ]
    }
   ],
   "source": [
    "x_test = pd.read_csv(\"/kaggle/input/aids-data-quest-society/test_ds.csv\")\n",
    "predictions = model.predict(x_test)\n",
    "predictionsx= np.round_(predictions).astype(int)"
   ]
  },
  {
   "cell_type": "code",
   "execution_count": 31,
   "id": "3941bb94",
   "metadata": {
    "execution": {
     "iopub.execute_input": "2024-02-27T11:11:50.181142Z",
     "iopub.status.busy": "2024-02-27T11:11:50.180818Z",
     "iopub.status.idle": "2024-02-27T11:11:50.188955Z",
     "shell.execute_reply": "2024-02-27T11:11:50.187186Z"
    },
    "papermill": {
     "duration": 0.048118,
     "end_time": "2024-02-27T11:11:50.191427",
     "exception": false,
     "start_time": "2024-02-27T11:11:50.143309",
     "status": "completed"
    },
    "tags": []
   },
   "outputs": [],
   "source": [
    "x_test['Quality'] = predictionsx"
   ]
  },
  {
   "cell_type": "code",
   "execution_count": 32,
   "id": "eba75ca0",
   "metadata": {
    "execution": {
     "iopub.execute_input": "2024-02-27T11:11:50.268429Z",
     "iopub.status.busy": "2024-02-27T11:11:50.268053Z",
     "iopub.status.idle": "2024-02-27T11:11:50.274265Z",
     "shell.execute_reply": "2024-02-27T11:11:50.273002Z"
    },
    "papermill": {
     "duration": 0.047243,
     "end_time": "2024-02-27T11:11:50.276446",
     "exception": false,
     "start_time": "2024-02-27T11:11:50.229203",
     "status": "completed"
    },
    "tags": []
   },
   "outputs": [],
   "source": [
    "dataFrame = x_test[['ID',\"Quality\"]]"
   ]
  },
  {
   "cell_type": "code",
   "execution_count": 33,
   "id": "82323571",
   "metadata": {
    "execution": {
     "iopub.execute_input": "2024-02-27T11:11:50.354146Z",
     "iopub.status.busy": "2024-02-27T11:11:50.353806Z",
     "iopub.status.idle": "2024-02-27T11:11:50.360971Z",
     "shell.execute_reply": "2024-02-27T11:11:50.359401Z"
    },
    "papermill": {
     "duration": 0.047789,
     "end_time": "2024-02-27T11:11:50.362882",
     "exception": false,
     "start_time": "2024-02-27T11:11:50.315093",
     "status": "completed"
    },
    "tags": []
   },
   "outputs": [
    {
     "name": "stderr",
     "output_type": "stream",
     "text": [
      "/tmp/ipykernel_18/2349301816.py:1: SettingWithCopyWarning: \n",
      "A value is trying to be set on a copy of a slice from a DataFrame.\n",
      "Try using .loc[row_indexer,col_indexer] = value instead\n",
      "\n",
      "See the caveats in the documentation: https://pandas.pydata.org/pandas-docs/stable/user_guide/indexing.html#returning-a-view-versus-a-copy\n",
      "  dataFrame['Quality'] = dataFrame['Quality'].map({1: 'good', 0: 'bad'})\n"
     ]
    }
   ],
   "source": [
    "dataFrame['Quality'] = dataFrame['Quality'].map({1: 'good', 0: 'bad'})"
   ]
  },
  {
   "cell_type": "code",
   "execution_count": null,
   "id": "0ae5444c",
   "metadata": {
    "papermill": {
     "duration": 0.037232,
     "end_time": "2024-02-27T11:11:50.437533",
     "exception": false,
     "start_time": "2024-02-27T11:11:50.400301",
     "status": "completed"
    },
    "tags": []
   },
   "outputs": [],
   "source": []
  },
  {
   "cell_type": "code",
   "execution_count": 34,
   "id": "2d959009",
   "metadata": {
    "execution": {
     "iopub.execute_input": "2024-02-27T11:11:50.513518Z",
     "iopub.status.busy": "2024-02-27T11:11:50.513122Z",
     "iopub.status.idle": "2024-02-27T11:11:50.526718Z",
     "shell.execute_reply": "2024-02-27T11:11:50.525462Z"
    },
    "papermill": {
     "duration": 0.054895,
     "end_time": "2024-02-27T11:11:50.529108",
     "exception": false,
     "start_time": "2024-02-27T11:11:50.474213",
     "status": "completed"
    },
    "tags": []
   },
   "outputs": [
    {
     "data": {
      "text/html": [
       "<div>\n",
       "<style scoped>\n",
       "    .dataframe tbody tr th:only-of-type {\n",
       "        vertical-align: middle;\n",
       "    }\n",
       "\n",
       "    .dataframe tbody tr th {\n",
       "        vertical-align: top;\n",
       "    }\n",
       "\n",
       "    .dataframe thead th {\n",
       "        text-align: right;\n",
       "    }\n",
       "</style>\n",
       "<table border=\"1\" class=\"dataframe\">\n",
       "  <thead>\n",
       "    <tr style=\"text-align: right;\">\n",
       "      <th></th>\n",
       "      <th>ID</th>\n",
       "      <th>Quality</th>\n",
       "    </tr>\n",
       "  </thead>\n",
       "  <tbody>\n",
       "    <tr>\n",
       "      <th>0</th>\n",
       "      <td>2307.0</td>\n",
       "      <td>good</td>\n",
       "    </tr>\n",
       "    <tr>\n",
       "      <th>1</th>\n",
       "      <td>3856.0</td>\n",
       "      <td>good</td>\n",
       "    </tr>\n",
       "    <tr>\n",
       "      <th>2</th>\n",
       "      <td>3205.0</td>\n",
       "      <td>good</td>\n",
       "    </tr>\n",
       "    <tr>\n",
       "      <th>3</th>\n",
       "      <td>564.0</td>\n",
       "      <td>good</td>\n",
       "    </tr>\n",
       "    <tr>\n",
       "      <th>4</th>\n",
       "      <td>2975.0</td>\n",
       "      <td>good</td>\n",
       "    </tr>\n",
       "    <tr>\n",
       "      <th>...</th>\n",
       "      <td>...</td>\n",
       "      <td>...</td>\n",
       "    </tr>\n",
       "    <tr>\n",
       "      <th>795</th>\n",
       "      <td>1749.0</td>\n",
       "      <td>good</td>\n",
       "    </tr>\n",
       "    <tr>\n",
       "      <th>796</th>\n",
       "      <td>3231.0</td>\n",
       "      <td>good</td>\n",
       "    </tr>\n",
       "    <tr>\n",
       "      <th>797</th>\n",
       "      <td>2891.0</td>\n",
       "      <td>good</td>\n",
       "    </tr>\n",
       "    <tr>\n",
       "      <th>798</th>\n",
       "      <td>3153.0</td>\n",
       "      <td>good</td>\n",
       "    </tr>\n",
       "    <tr>\n",
       "      <th>799</th>\n",
       "      <td>401.0</td>\n",
       "      <td>good</td>\n",
       "    </tr>\n",
       "  </tbody>\n",
       "</table>\n",
       "<p>800 rows × 2 columns</p>\n",
       "</div>"
      ],
      "text/plain": [
       "         ID Quality\n",
       "0    2307.0    good\n",
       "1    3856.0    good\n",
       "2    3205.0    good\n",
       "3     564.0    good\n",
       "4    2975.0    good\n",
       "..      ...     ...\n",
       "795  1749.0    good\n",
       "796  3231.0    good\n",
       "797  2891.0    good\n",
       "798  3153.0    good\n",
       "799   401.0    good\n",
       "\n",
       "[800 rows x 2 columns]"
      ]
     },
     "execution_count": 34,
     "metadata": {},
     "output_type": "execute_result"
    }
   ],
   "source": [
    "dataFrame"
   ]
  },
  {
   "cell_type": "code",
   "execution_count": null,
   "id": "451a1ef5",
   "metadata": {
    "papermill": {
     "duration": 0.037324,
     "end_time": "2024-02-27T11:11:50.603927",
     "exception": false,
     "start_time": "2024-02-27T11:11:50.566603",
     "status": "completed"
    },
    "tags": []
   },
   "outputs": [],
   "source": []
  },
  {
   "cell_type": "code",
   "execution_count": null,
   "id": "6ef4b8ac",
   "metadata": {
    "papermill": {
     "duration": 0.037274,
     "end_time": "2024-02-27T11:11:50.681173",
     "exception": false,
     "start_time": "2024-02-27T11:11:50.643899",
     "status": "completed"
    },
    "tags": []
   },
   "outputs": [],
   "source": []
  },
  {
   "cell_type": "code",
   "execution_count": 35,
   "id": "6f20500b",
   "metadata": {
    "execution": {
     "iopub.execute_input": "2024-02-27T11:11:50.767426Z",
     "iopub.status.busy": "2024-02-27T11:11:50.767051Z",
     "iopub.status.idle": "2024-02-27T11:11:50.774699Z",
     "shell.execute_reply": "2024-02-27T11:11:50.773462Z"
    },
    "papermill": {
     "duration": 0.057085,
     "end_time": "2024-02-27T11:11:50.776630",
     "exception": false,
     "start_time": "2024-02-27T11:11:50.719545",
     "status": "completed"
    },
    "tags": []
   },
   "outputs": [],
   "source": [
    "dataFrame.to_csv('submissions.csv',index=False)"
   ]
  },
  {
   "cell_type": "code",
   "execution_count": null,
   "id": "1468fe09",
   "metadata": {
    "papermill": {
     "duration": 0.037344,
     "end_time": "2024-02-27T11:11:50.851516",
     "exception": false,
     "start_time": "2024-02-27T11:11:50.814172",
     "status": "completed"
    },
    "tags": []
   },
   "outputs": [],
   "source": []
  },
  {
   "cell_type": "code",
   "execution_count": 36,
   "id": "01957a26",
   "metadata": {
    "execution": {
     "iopub.execute_input": "2024-02-27T11:11:50.927377Z",
     "iopub.status.busy": "2024-02-27T11:11:50.927008Z",
     "iopub.status.idle": "2024-02-27T11:11:50.935816Z",
     "shell.execute_reply": "2024-02-27T11:11:50.934964Z"
    },
    "papermill": {
     "duration": 0.049179,
     "end_time": "2024-02-27T11:11:50.937376",
     "exception": false,
     "start_time": "2024-02-27T11:11:50.888197",
     "status": "completed"
    },
    "tags": []
   },
   "outputs": [
    {
     "data": {
      "text/html": [
       "<div>\n",
       "<style scoped>\n",
       "    .dataframe tbody tr th:only-of-type {\n",
       "        vertical-align: middle;\n",
       "    }\n",
       "\n",
       "    .dataframe tbody tr th {\n",
       "        vertical-align: top;\n",
       "    }\n",
       "\n",
       "    .dataframe thead th {\n",
       "        text-align: right;\n",
       "    }\n",
       "</style>\n",
       "<table border=\"1\" class=\"dataframe\">\n",
       "  <thead>\n",
       "    <tr style=\"text-align: right;\">\n",
       "      <th></th>\n",
       "      <th>ID</th>\n",
       "      <th>Quality</th>\n",
       "    </tr>\n",
       "  </thead>\n",
       "  <tbody>\n",
       "    <tr>\n",
       "      <th>0</th>\n",
       "      <td>2307.0</td>\n",
       "      <td>good</td>\n",
       "    </tr>\n",
       "    <tr>\n",
       "      <th>1</th>\n",
       "      <td>3856.0</td>\n",
       "      <td>good</td>\n",
       "    </tr>\n",
       "    <tr>\n",
       "      <th>2</th>\n",
       "      <td>3205.0</td>\n",
       "      <td>good</td>\n",
       "    </tr>\n",
       "    <tr>\n",
       "      <th>3</th>\n",
       "      <td>564.0</td>\n",
       "      <td>good</td>\n",
       "    </tr>\n",
       "    <tr>\n",
       "      <th>4</th>\n",
       "      <td>2975.0</td>\n",
       "      <td>good</td>\n",
       "    </tr>\n",
       "  </tbody>\n",
       "</table>\n",
       "</div>"
      ],
      "text/plain": [
       "       ID Quality\n",
       "0  2307.0    good\n",
       "1  3856.0    good\n",
       "2  3205.0    good\n",
       "3   564.0    good\n",
       "4  2975.0    good"
      ]
     },
     "execution_count": 36,
     "metadata": {},
     "output_type": "execute_result"
    }
   ],
   "source": [
    "dataFrame.head()"
   ]
  },
  {
   "cell_type": "code",
   "execution_count": 37,
   "id": "ff83e304",
   "metadata": {
    "execution": {
     "iopub.execute_input": "2024-02-27T11:11:51.012621Z",
     "iopub.status.busy": "2024-02-27T11:11:51.012213Z",
     "iopub.status.idle": "2024-02-27T11:11:51.023008Z",
     "shell.execute_reply": "2024-02-27T11:11:51.021750Z"
    },
    "papermill": {
     "duration": 0.051185,
     "end_time": "2024-02-27T11:11:51.025427",
     "exception": false,
     "start_time": "2024-02-27T11:11:50.974242",
     "status": "completed"
    },
    "tags": []
   },
   "outputs": [
    {
     "data": {
      "text/html": [
       "<div>\n",
       "<style scoped>\n",
       "    .dataframe tbody tr th:only-of-type {\n",
       "        vertical-align: middle;\n",
       "    }\n",
       "\n",
       "    .dataframe tbody tr th {\n",
       "        vertical-align: top;\n",
       "    }\n",
       "\n",
       "    .dataframe thead th {\n",
       "        text-align: right;\n",
       "    }\n",
       "</style>\n",
       "<table border=\"1\" class=\"dataframe\">\n",
       "  <thead>\n",
       "    <tr style=\"text-align: right;\">\n",
       "      <th></th>\n",
       "      <th>ID</th>\n",
       "      <th>Quality</th>\n",
       "    </tr>\n",
       "  </thead>\n",
       "  <tbody>\n",
       "    <tr>\n",
       "      <th>0</th>\n",
       "      <td>2307.0</td>\n",
       "      <td>good</td>\n",
       "    </tr>\n",
       "    <tr>\n",
       "      <th>1</th>\n",
       "      <td>3856.0</td>\n",
       "      <td>good</td>\n",
       "    </tr>\n",
       "    <tr>\n",
       "      <th>2</th>\n",
       "      <td>3205.0</td>\n",
       "      <td>good</td>\n",
       "    </tr>\n",
       "    <tr>\n",
       "      <th>3</th>\n",
       "      <td>564.0</td>\n",
       "      <td>good</td>\n",
       "    </tr>\n",
       "    <tr>\n",
       "      <th>4</th>\n",
       "      <td>2975.0</td>\n",
       "      <td>good</td>\n",
       "    </tr>\n",
       "  </tbody>\n",
       "</table>\n",
       "</div>"
      ],
      "text/plain": [
       "       ID Quality\n",
       "0  2307.0    good\n",
       "1  3856.0    good\n",
       "2  3205.0    good\n",
       "3   564.0    good\n",
       "4  2975.0    good"
      ]
     },
     "execution_count": 37,
     "metadata": {},
     "output_type": "execute_result"
    }
   ],
   "source": [
    "dataFrame.head()"
   ]
  },
  {
   "cell_type": "code",
   "execution_count": 38,
   "id": "26be24e0",
   "metadata": {
    "execution": {
     "iopub.execute_input": "2024-02-27T11:11:51.101297Z",
     "iopub.status.busy": "2024-02-27T11:11:51.100970Z",
     "iopub.status.idle": "2024-02-27T11:11:51.110080Z",
     "shell.execute_reply": "2024-02-27T11:11:51.108208Z"
    },
    "papermill": {
     "duration": 0.050034,
     "end_time": "2024-02-27T11:11:51.112356",
     "exception": false,
     "start_time": "2024-02-27T11:11:51.062322",
     "status": "completed"
    },
    "tags": []
   },
   "outputs": [
    {
     "name": "stdout",
     "output_type": "stream",
     "text": [
      "         ID Quality\n",
      "0    2307.0    good\n",
      "1    3856.0    good\n",
      "2    3205.0    good\n",
      "3     564.0    good\n",
      "4    2975.0    good\n",
      "..      ...     ...\n",
      "795  1749.0    good\n",
      "796  3231.0    good\n",
      "797  2891.0    good\n",
      "798  3153.0    good\n",
      "799   401.0    good\n",
      "\n",
      "[800 rows x 2 columns]\n"
     ]
    }
   ],
   "source": [
    "print(dataFrame)"
   ]
  }
 ],
 "metadata": {
  "kaggle": {
   "accelerator": "none",
   "dataSources": [
    {
     "databundleVersionId": 7731816,
     "sourceId": 70769,
     "sourceType": "competition"
    }
   ],
   "dockerImageVersionId": 30646,
   "isGpuEnabled": false,
   "isInternetEnabled": true,
   "language": "python",
   "sourceType": "notebook"
  },
  "kernelspec": {
   "display_name": "Python 3",
   "language": "python",
   "name": "python3"
  },
  "language_info": {
   "codemirror_mode": {
    "name": "ipython",
    "version": 3
   },
   "file_extension": ".py",
   "mimetype": "text/x-python",
   "name": "python",
   "nbconvert_exporter": "python",
   "pygments_lexer": "ipython3",
   "version": "3.10.13"
  },
  "papermill": {
   "default_parameters": {},
   "duration": 33.618409,
   "end_time": "2024-02-27T11:11:52.875692",
   "environment_variables": {},
   "exception": null,
   "input_path": "__notebook__.ipynb",
   "output_path": "__notebook__.ipynb",
   "parameters": {},
   "start_time": "2024-02-27T11:11:19.257283",
   "version": "2.5.0"
  }
 },
 "nbformat": 4,
 "nbformat_minor": 5
}
